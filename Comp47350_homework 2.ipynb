{
 "cells": [
  {
   "cell_type": "markdown",
   "metadata": {},
   "source": [
    "## 0. Clean data"
   ]
  },
  {
   "cell_type": "code",
   "execution_count": 2,
   "metadata": {},
   "outputs": [],
   "source": [
    "import pandas as pd\n",
    "import numpy as np\n",
    "import seaborn as sns\n",
    "import matplotlib.pyplot as plt\n",
    "import warnings\n",
    "warnings.filterwarnings(\"ignore\")"
   ]
  },
  {
   "cell_type": "markdown",
   "metadata": {},
   "source": [
    "Data cleaning: This data analysis problem is a regression problem on price prediction. Firstly, we have to clean the target-price, and secondly, we have to clean the variables used to predict the target, including numerical variables as well as categorical variables. The target-price is a text variable in the csv file, so it needs to be processed for text, and we also need to remove some extreme values from the price to avoid them affecting the accuracy of the model. For the prediction variables, we observe that each price has a timestamp, so we can decompose the timestamp variables into year, quater, month and weekday, while the other category variables can be replaced by 0-1 if there are only two categories, or 0ne-hot if there are three or more. Finally we removed variables that were not relevant to the prediction target and features with a high number of missing values.  \n",
    "By cleaning the data we can get more useful features, reduce the influence of noise in the data and ultimately improve the accuracy of the model."
   ]
  },
  {
   "cell_type": "code",
   "execution_count": 3,
   "metadata": {},
   "outputs": [
    {
     "data": {
      "text/html": [
       "<div>\n",
       "<style scoped>\n",
       "    .dataframe tbody tr th:only-of-type {\n",
       "        vertical-align: middle;\n",
       "    }\n",
       "\n",
       "    .dataframe tbody tr th {\n",
       "        vertical-align: top;\n",
       "    }\n",
       "\n",
       "    .dataframe thead th {\n",
       "        text-align: right;\n",
       "    }\n",
       "</style>\n",
       "<table border=\"1\" class=\"dataframe\">\n",
       "  <thead>\n",
       "    <tr style=\"text-align: right;\">\n",
       "      <th></th>\n",
       "      <th>Date of Sale</th>\n",
       "      <th>Address</th>\n",
       "      <th>Postal Code</th>\n",
       "      <th>County</th>\n",
       "      <th>Price</th>\n",
       "      <th>Not Full Market Price</th>\n",
       "      <th>VAT Exclusive</th>\n",
       "      <th>Description of Property</th>\n",
       "      <th>Property Size Description</th>\n",
       "    </tr>\n",
       "  </thead>\n",
       "  <tbody>\n",
       "    <tr>\n",
       "      <th>0</th>\n",
       "      <td>2016-01-20</td>\n",
       "      <td>44 ABBOTOWN AVE, FINGLAS WEST, DUBLIN 11</td>\n",
       "      <td>Dublin 11</td>\n",
       "      <td>Dublin</td>\n",
       "      <td>165000.0</td>\n",
       "      <td>No</td>\n",
       "      <td>No</td>\n",
       "      <td>Second-Hand Dwelling house /Apartment</td>\n",
       "      <td>NaN</td>\n",
       "    </tr>\n",
       "    <tr>\n",
       "      <th>1</th>\n",
       "      <td>2018-03-09</td>\n",
       "      <td>29 SHANDON COURT, UPPER YELLOW RD, WATERFORD</td>\n",
       "      <td>NaN</td>\n",
       "      <td>Waterford</td>\n",
       "      <td>110000.0</td>\n",
       "      <td>No</td>\n",
       "      <td>No</td>\n",
       "      <td>Second-Hand Dwelling house /Apartment</td>\n",
       "      <td>NaN</td>\n",
       "    </tr>\n",
       "    <tr>\n",
       "      <th>2</th>\n",
       "      <td>2020-03-24</td>\n",
       "      <td>8 THE NURSERIES, TANEY ROAD, DUNDRUM</td>\n",
       "      <td>Dublin 14</td>\n",
       "      <td>Dublin</td>\n",
       "      <td>733149.0</td>\n",
       "      <td>No</td>\n",
       "      <td>Yes</td>\n",
       "      <td>New Dwelling house /Apartment</td>\n",
       "      <td>NaN</td>\n",
       "    </tr>\n",
       "    <tr>\n",
       "      <th>3</th>\n",
       "      <td>2014-07-25</td>\n",
       "      <td>12 St. Davids Wood, Artane</td>\n",
       "      <td>Dublin 5</td>\n",
       "      <td>Dublin</td>\n",
       "      <td>380000.0</td>\n",
       "      <td>No</td>\n",
       "      <td>No</td>\n",
       "      <td>Second-Hand Dwelling house /Apartment</td>\n",
       "      <td>NaN</td>\n",
       "    </tr>\n",
       "    <tr>\n",
       "      <th>4</th>\n",
       "      <td>2017-12-21</td>\n",
       "      <td>178 THE FAYTHE, WEXFORD, CO WEXFORD</td>\n",
       "      <td>NaN</td>\n",
       "      <td>Wexford</td>\n",
       "      <td>100000.0</td>\n",
       "      <td>No</td>\n",
       "      <td>No</td>\n",
       "      <td>Second-Hand Dwelling house /Apartment</td>\n",
       "      <td>NaN</td>\n",
       "    </tr>\n",
       "  </tbody>\n",
       "</table>\n",
       "</div>"
      ],
      "text/plain": [
       "  Date of Sale                                       Address Postal Code  \\\n",
       "0   2016-01-20      44 ABBOTOWN AVE, FINGLAS WEST, DUBLIN 11   Dublin 11   \n",
       "1   2018-03-09  29 SHANDON COURT, UPPER YELLOW RD, WATERFORD         NaN   \n",
       "2   2020-03-24          8 THE NURSERIES, TANEY ROAD, DUNDRUM   Dublin 14   \n",
       "3   2014-07-25                    12 St. Davids Wood, Artane    Dublin 5   \n",
       "4   2017-12-21           178 THE FAYTHE, WEXFORD, CO WEXFORD         NaN   \n",
       "\n",
       "      County     Price Not Full Market Price VAT Exclusive  \\\n",
       "0     Dublin  165000.0                    No            No   \n",
       "1  Waterford  110000.0                    No            No   \n",
       "2     Dublin  733149.0                    No           Yes   \n",
       "3     Dublin  380000.0                    No            No   \n",
       "4    Wexford  100000.0                    No            No   \n",
       "\n",
       "                 Description of Property Property Size Description  \n",
       "0  Second-Hand Dwelling house /Apartment                       NaN  \n",
       "1  Second-Hand Dwelling house /Apartment                       NaN  \n",
       "2          New Dwelling house /Apartment                       NaN  \n",
       "3  Second-Hand Dwelling house /Apartment                       NaN  \n",
       "4  Second-Hand Dwelling house /Apartment                       NaN  "
      ]
     },
     "execution_count": 3,
     "metadata": {},
     "output_type": "execute_result"
    }
   ],
   "source": [
    "df = pd.read_csv('ppr-21201409.csv')\n",
    "df['Date of Sale (dd/mm/yyyy)'] = pd.to_datetime(df['Date of Sale (dd/mm/yyyy)'], dayfirst=True, format='%d/%m/%Y')\n",
    "df = df.rename(columns={'Date of Sale (dd/mm/yyyy)': 'Date of Sale'})\n",
    "for idx, row in df.iterrows():\n",
    "    df.loc[idx, ['Price (€)']] = float(row['Price (€)'][1:].replace(',',''))\n",
    "df['Price (€)'] = df['Price (€)'].astype('float')\n",
    "df = df.rename(columns={'Price (€)': 'Price'})\n",
    "df.head()"
   ]
  },
  {
   "cell_type": "code",
   "execution_count": 4,
   "metadata": {},
   "outputs": [
    {
     "name": "stdout",
     "output_type": "stream",
     "text": [
      "<class 'pandas.core.frame.DataFrame'>\n",
      "RangeIndex: 10000 entries, 0 to 9999\n",
      "Data columns (total 9 columns):\n",
      " #   Column                     Non-Null Count  Dtype         \n",
      "---  ------                     --------------  -----         \n",
      " 0   Date of Sale               10000 non-null  datetime64[ns]\n",
      " 1   Address                    10000 non-null  object        \n",
      " 2   Postal Code                1910 non-null   object        \n",
      " 3   County                     10000 non-null  object        \n",
      " 4   Price                      10000 non-null  float64       \n",
      " 5   Not Full Market Price      10000 non-null  object        \n",
      " 6   VAT Exclusive              10000 non-null  object        \n",
      " 7   Description of Property    10000 non-null  object        \n",
      " 8   Property Size Description  1028 non-null   object        \n",
      "dtypes: datetime64[ns](1), float64(1), object(7)\n",
      "memory usage: 703.2+ KB\n"
     ]
    }
   ],
   "source": [
    "df.info()"
   ]
  },
  {
   "cell_type": "markdown",
   "metadata": {},
   "source": [
    "### process target: price"
   ]
  },
  {
   "cell_type": "code",
   "execution_count": 5,
   "metadata": {},
   "outputs": [
    {
     "name": "stdout",
     "output_type": "stream",
     "text": [
      "Old Shape:  (10000, 9)\n",
      "New Shape:  (9430, 9)\n"
     ]
    }
   ],
   "source": [
    "''' Detection '''\n",
    "# IQR\n",
    "Q1 = df['Price'].quantile(0.25)\n",
    "Q3 = df['Price'].quantile(0.75)\n",
    "IQR = Q3 - Q1\n",
    "print(\"Old Shape: \", df.shape)\n",
    "test_4 = df[((df['Price'] < Q1 - 1.5 * IQR) | (df['Price'] > Q3 + 1.5 * IQR))]\n",
    "# ''' Removing the Outliers '''\n",
    "df.drop(test_4.index, inplace=True)\n",
    "print(\"New Shape: \", df.shape)"
   ]
  },
  {
   "cell_type": "markdown",
   "metadata": {},
   "source": [
    "### process Date of Sale"
   ]
  },
  {
   "cell_type": "code",
   "execution_count": 6,
   "metadata": {},
   "outputs": [
    {
     "name": "stdout",
     "output_type": "stream",
     "text": [
      "Old Shape:  (9430, 9)\n",
      "Total number of rows dropped:  0\n",
      "New Shape:  (9430, 9)\n"
     ]
    }
   ],
   "source": [
    "test_3 = []\n",
    "for i in range(df.shape[0]):\n",
    "    if df.iloc[i]['Date of Sale'] > np.datetime64('2022-01-24T00:00:00Z'):\n",
    "        test_3.append(df.iloc[i])\n",
    "test_3 = pd.DataFrame(test_3)\n",
    "print(\"Old Shape: \", df.shape)\n",
    "# Check for cases that are later than 24 January 2022\n",
    "print(\"Total number of rows dropped: \", test_3.shape[0])\n",
    "df = df.drop(test_3.index)\n",
    "print(\"New Shape: \", df.shape)"
   ]
  },
  {
   "cell_type": "markdown",
   "metadata": {},
   "source": [
    "### process Address"
   ]
  },
  {
   "cell_type": "code",
   "execution_count": 7,
   "metadata": {},
   "outputs": [],
   "source": [
    "# drop column 'Address' because the entropy value is too large to give valid information\n",
    "df = df.drop(['Address'], axis=1)"
   ]
  },
  {
   "cell_type": "markdown",
   "metadata": {},
   "source": [
    "### process Postal Code"
   ]
  },
  {
   "cell_type": "code",
   "execution_count": 8,
   "metadata": {},
   "outputs": [
    {
     "data": {
      "text/plain": [
       "Dublin 15       260\n",
       "Dublin 24       113\n",
       "Dublin 9        103\n",
       "Dublin 8        102\n",
       "Dublin 18       102\n",
       "Dublin 13        95\n",
       "Dublin 11        94\n",
       "Dublin 7         92\n",
       "Dublin 16        79\n",
       "Dublin 12        72\n",
       "Dublin 4         70\n",
       "Dublin 5         69\n",
       "Dublin 3         69\n",
       "Dublin 14        63\n",
       "Dublin 22        56\n",
       "Dublin 1         52\n",
       "Dublin 6         46\n",
       "Dublin 2         32\n",
       "Dublin 10        28\n",
       "Dublin 17        22\n",
       "Dublin 20        18\n",
       "Dublin 6w        10\n",
       "Ní Bhaineann      1\n",
       "Name: Postal Code, dtype: int64"
      ]
     },
     "execution_count": 8,
     "metadata": {},
     "output_type": "execute_result"
    }
   ],
   "source": [
    "df[\"Postal Code\"].value_counts()"
   ]
  },
  {
   "cell_type": "code",
   "execution_count": 9,
   "metadata": {},
   "outputs": [],
   "source": [
    "df = df.drop(['Postal Code'], axis=1) # too many empty values, so remove it."
   ]
  },
  {
   "cell_type": "markdown",
   "metadata": {},
   "source": [
    "### process County"
   ]
  },
  {
   "cell_type": "code",
   "execution_count": 10,
   "metadata": {},
   "outputs": [
    {
     "data": {
      "text/plain": [
       "Dublin       2754\n",
       "Cork         1082\n",
       "Kildare       508\n",
       "Galway        500\n",
       "Meath         366\n",
       "Limerick      361\n",
       "Wexford       321\n",
       "Kerry         285\n",
       "Waterford     282\n",
       "Wicklow       282\n",
       "Tipperary     278\n",
       "Donegal       258\n",
       "Louth         246\n",
       "Clare         228\n",
       "Mayo          222\n",
       "Westmeath     199\n",
       "Sligo         158\n",
       "Laois         156\n",
       "Cavan         149\n",
       "Roscommon     146\n",
       "Kilkenny      140\n",
       "Offaly        131\n",
       "Carlow        124\n",
       "Monaghan       96\n",
       "Longford       81\n",
       "Leitrim        77\n",
       "Name: County, dtype: int64"
      ]
     },
     "execution_count": 10,
     "metadata": {},
     "output_type": "execute_result"
    }
   ],
   "source": [
    "df[\"County\"].value_counts()"
   ]
  },
  {
   "cell_type": "markdown",
   "metadata": {},
   "source": [
    "### process Not Full Market Price"
   ]
  },
  {
   "cell_type": "code",
   "execution_count": 11,
   "metadata": {},
   "outputs": [
    {
     "data": {
      "text/plain": [
       "No     8958\n",
       "Yes     472\n",
       "Name: Not Full Market Price, dtype: int64"
      ]
     },
     "execution_count": 11,
     "metadata": {},
     "output_type": "execute_result"
    }
   ],
   "source": [
    "df[\"Not Full Market Price\"].value_counts()"
   ]
  },
  {
   "cell_type": "markdown",
   "metadata": {},
   "source": [
    "### process VAT Exclusive "
   ]
  },
  {
   "cell_type": "code",
   "execution_count": 12,
   "metadata": {},
   "outputs": [
    {
     "data": {
      "text/plain": [
       "No     7919\n",
       "Yes    1511\n",
       "Name: VAT Exclusive, dtype: int64"
      ]
     },
     "execution_count": 12,
     "metadata": {},
     "output_type": "execute_result"
    }
   ],
   "source": [
    "df[\"VAT Exclusive\"].value_counts()"
   ]
  },
  {
   "cell_type": "markdown",
   "metadata": {},
   "source": [
    "### process Description of Property"
   ]
  },
  {
   "cell_type": "code",
   "execution_count": 13,
   "metadata": {},
   "outputs": [
    {
     "data": {
      "text/plain": [
       "Second-Hand Dwelling house /Apartment    7894\n",
       "New Dwelling house /Apartment            1534\n",
       "Teach/Árasán Cónaithe Atháimhe              2\n",
       "Name: Description of Property, dtype: int64"
      ]
     },
     "execution_count": 13,
     "metadata": {},
     "output_type": "execute_result"
    }
   ],
   "source": [
    "df[\"Description of Property\"].value_counts()"
   ]
  },
  {
   "cell_type": "code",
   "execution_count": 14,
   "metadata": {},
   "outputs": [],
   "source": [
    "df = df.drop(df[df['Description of Property']=='Teach/Árasán Cónaithe Atháimhe'].index) # remove outliers"
   ]
  },
  {
   "cell_type": "markdown",
   "metadata": {},
   "source": [
    "### process Property Size Description"
   ]
  },
  {
   "cell_type": "code",
   "execution_count": 15,
   "metadata": {},
   "outputs": [
    {
     "data": {
      "text/plain": [
       "greater than or equal to 38 sq metres and less than 125 sq metres    723\n",
       "greater than 125 sq metres                                           106\n",
       "greater than or equal to 125 sq metres                                91\n",
       "less than 38 sq metres                                                61\n",
       "Name: Property Size Description, dtype: int64"
      ]
     },
     "execution_count": 15,
     "metadata": {},
     "output_type": "execute_result"
    }
   ],
   "source": [
    "df[\"Property Size Description\"].value_counts()"
   ]
  },
  {
   "cell_type": "code",
   "execution_count": 16,
   "metadata": {},
   "outputs": [],
   "source": [
    "df = df.drop(['Property Size Description'], axis=1) # too many empty values, so remove it."
   ]
  },
  {
   "cell_type": "markdown",
   "metadata": {},
   "source": [
    "### overall "
   ]
  },
  {
   "cell_type": "code",
   "execution_count": 17,
   "metadata": {},
   "outputs": [
    {
     "data": {
      "text/html": [
       "<div>\n",
       "<style scoped>\n",
       "    .dataframe tbody tr th:only-of-type {\n",
       "        vertical-align: middle;\n",
       "    }\n",
       "\n",
       "    .dataframe tbody tr th {\n",
       "        vertical-align: top;\n",
       "    }\n",
       "\n",
       "    .dataframe thead th {\n",
       "        text-align: right;\n",
       "    }\n",
       "</style>\n",
       "<table border=\"1\" class=\"dataframe\">\n",
       "  <thead>\n",
       "    <tr style=\"text-align: right;\">\n",
       "      <th></th>\n",
       "      <th>Date of Sale</th>\n",
       "      <th>County</th>\n",
       "      <th>Price</th>\n",
       "      <th>Not Full Market Price</th>\n",
       "      <th>VAT Exclusive</th>\n",
       "      <th>Description of Property</th>\n",
       "    </tr>\n",
       "  </thead>\n",
       "  <tbody>\n",
       "    <tr>\n",
       "      <th>count</th>\n",
       "      <td>9428</td>\n",
       "      <td>9428</td>\n",
       "      <td>9428.000000</td>\n",
       "      <td>9428</td>\n",
       "      <td>9428</td>\n",
       "      <td>9428</td>\n",
       "    </tr>\n",
       "    <tr>\n",
       "      <th>unique</th>\n",
       "      <td>2740</td>\n",
       "      <td>26</td>\n",
       "      <td>NaN</td>\n",
       "      <td>2</td>\n",
       "      <td>2</td>\n",
       "      <td>2</td>\n",
       "    </tr>\n",
       "    <tr>\n",
       "      <th>top</th>\n",
       "      <td>2016-12-22 00:00:00</td>\n",
       "      <td>Dublin</td>\n",
       "      <td>NaN</td>\n",
       "      <td>No</td>\n",
       "      <td>No</td>\n",
       "      <td>Second-Hand Dwelling house /Apartment</td>\n",
       "    </tr>\n",
       "    <tr>\n",
       "      <th>freq</th>\n",
       "      <td>20</td>\n",
       "      <td>2754</td>\n",
       "      <td>NaN</td>\n",
       "      <td>8956</td>\n",
       "      <td>7917</td>\n",
       "      <td>7894</td>\n",
       "    </tr>\n",
       "    <tr>\n",
       "      <th>first</th>\n",
       "      <td>2010-01-04 00:00:00</td>\n",
       "      <td>NaN</td>\n",
       "      <td>NaN</td>\n",
       "      <td>NaN</td>\n",
       "      <td>NaN</td>\n",
       "      <td>NaN</td>\n",
       "    </tr>\n",
       "    <tr>\n",
       "      <th>last</th>\n",
       "      <td>2022-01-11 00:00:00</td>\n",
       "      <td>NaN</td>\n",
       "      <td>NaN</td>\n",
       "      <td>NaN</td>\n",
       "      <td>NaN</td>\n",
       "      <td>NaN</td>\n",
       "    </tr>\n",
       "    <tr>\n",
       "      <th>mean</th>\n",
       "      <td>NaN</td>\n",
       "      <td>NaN</td>\n",
       "      <td>209633.797767</td>\n",
       "      <td>NaN</td>\n",
       "      <td>NaN</td>\n",
       "      <td>NaN</td>\n",
       "    </tr>\n",
       "    <tr>\n",
       "      <th>std</th>\n",
       "      <td>NaN</td>\n",
       "      <td>NaN</td>\n",
       "      <td>123015.418371</td>\n",
       "      <td>NaN</td>\n",
       "      <td>NaN</td>\n",
       "      <td>NaN</td>\n",
       "    </tr>\n",
       "    <tr>\n",
       "      <th>min</th>\n",
       "      <td>NaN</td>\n",
       "      <td>NaN</td>\n",
       "      <td>5963.000000</td>\n",
       "      <td>NaN</td>\n",
       "      <td>NaN</td>\n",
       "      <td>NaN</td>\n",
       "    </tr>\n",
       "    <tr>\n",
       "      <th>25%</th>\n",
       "      <td>NaN</td>\n",
       "      <td>NaN</td>\n",
       "      <td>113000.000000</td>\n",
       "      <td>NaN</td>\n",
       "      <td>NaN</td>\n",
       "      <td>NaN</td>\n",
       "    </tr>\n",
       "    <tr>\n",
       "      <th>50%</th>\n",
       "      <td>NaN</td>\n",
       "      <td>NaN</td>\n",
       "      <td>192250.000000</td>\n",
       "      <td>NaN</td>\n",
       "      <td>NaN</td>\n",
       "      <td>NaN</td>\n",
       "    </tr>\n",
       "    <tr>\n",
       "      <th>75%</th>\n",
       "      <td>NaN</td>\n",
       "      <td>NaN</td>\n",
       "      <td>285000.000000</td>\n",
       "      <td>NaN</td>\n",
       "      <td>NaN</td>\n",
       "      <td>NaN</td>\n",
       "    </tr>\n",
       "    <tr>\n",
       "      <th>max</th>\n",
       "      <td>NaN</td>\n",
       "      <td>NaN</td>\n",
       "      <td>585000.000000</td>\n",
       "      <td>NaN</td>\n",
       "      <td>NaN</td>\n",
       "      <td>NaN</td>\n",
       "    </tr>\n",
       "  </tbody>\n",
       "</table>\n",
       "</div>"
      ],
      "text/plain": [
       "               Date of Sale  County          Price Not Full Market Price  \\\n",
       "count                  9428    9428    9428.000000                  9428   \n",
       "unique                 2740      26            NaN                     2   \n",
       "top     2016-12-22 00:00:00  Dublin            NaN                    No   \n",
       "freq                     20    2754            NaN                  8956   \n",
       "first   2010-01-04 00:00:00     NaN            NaN                   NaN   \n",
       "last    2022-01-11 00:00:00     NaN            NaN                   NaN   \n",
       "mean                    NaN     NaN  209633.797767                   NaN   \n",
       "std                     NaN     NaN  123015.418371                   NaN   \n",
       "min                     NaN     NaN    5963.000000                   NaN   \n",
       "25%                     NaN     NaN  113000.000000                   NaN   \n",
       "50%                     NaN     NaN  192250.000000                   NaN   \n",
       "75%                     NaN     NaN  285000.000000                   NaN   \n",
       "max                     NaN     NaN  585000.000000                   NaN   \n",
       "\n",
       "       VAT Exclusive                Description of Property  \n",
       "count           9428                                   9428  \n",
       "unique             2                                      2  \n",
       "top               No  Second-Hand Dwelling house /Apartment  \n",
       "freq            7917                                   7894  \n",
       "first            NaN                                    NaN  \n",
       "last             NaN                                    NaN  \n",
       "mean             NaN                                    NaN  \n",
       "std              NaN                                    NaN  \n",
       "min              NaN                                    NaN  \n",
       "25%              NaN                                    NaN  \n",
       "50%              NaN                                    NaN  \n",
       "75%              NaN                                    NaN  \n",
       "max              NaN                                    NaN  "
      ]
     },
     "execution_count": 17,
     "metadata": {},
     "output_type": "execute_result"
    }
   ],
   "source": [
    "df.describe(include=\"all\")"
   ]
  },
  {
   "cell_type": "markdown",
   "metadata": {},
   "source": [
    "## 1.Data Understanding and Preparation"
   ]
  },
  {
   "cell_type": "markdown",
   "metadata": {},
   "source": [
    "### 1.1 "
   ]
  },
  {
   "cell_type": "code",
   "execution_count": 18,
   "metadata": {},
   "outputs": [],
   "source": [
    "from sklearn.model_selection import train_test_split\n",
    "# split data to two datasets: 70% training and 30% test\n",
    "train_data, test_data = train_test_split(df, test_size=0.3, shuffle=True, random_state=0) "
   ]
  },
  {
   "cell_type": "code",
   "execution_count": 19,
   "metadata": {},
   "outputs": [
    {
     "data": {
      "text/html": [
       "<div>\n",
       "<style scoped>\n",
       "    .dataframe tbody tr th:only-of-type {\n",
       "        vertical-align: middle;\n",
       "    }\n",
       "\n",
       "    .dataframe tbody tr th {\n",
       "        vertical-align: top;\n",
       "    }\n",
       "\n",
       "    .dataframe thead th {\n",
       "        text-align: right;\n",
       "    }\n",
       "</style>\n",
       "<table border=\"1\" class=\"dataframe\">\n",
       "  <thead>\n",
       "    <tr style=\"text-align: right;\">\n",
       "      <th></th>\n",
       "      <th>Date of Sale</th>\n",
       "      <th>County</th>\n",
       "      <th>Price</th>\n",
       "      <th>Not Full Market Price</th>\n",
       "      <th>VAT Exclusive</th>\n",
       "      <th>Description of Property</th>\n",
       "    </tr>\n",
       "  </thead>\n",
       "  <tbody>\n",
       "    <tr>\n",
       "      <th>3695</th>\n",
       "      <td>2018-04-30</td>\n",
       "      <td>Donegal</td>\n",
       "      <td>120000.0</td>\n",
       "      <td>No</td>\n",
       "      <td>No</td>\n",
       "      <td>Second-Hand Dwelling house /Apartment</td>\n",
       "    </tr>\n",
       "    <tr>\n",
       "      <th>2163</th>\n",
       "      <td>2016-12-02</td>\n",
       "      <td>Dublin</td>\n",
       "      <td>115000.0</td>\n",
       "      <td>Yes</td>\n",
       "      <td>No</td>\n",
       "      <td>Second-Hand Dwelling house /Apartment</td>\n",
       "    </tr>\n",
       "    <tr>\n",
       "      <th>7509</th>\n",
       "      <td>2021-01-08</td>\n",
       "      <td>Galway</td>\n",
       "      <td>520555.0</td>\n",
       "      <td>No</td>\n",
       "      <td>No</td>\n",
       "      <td>Second-Hand Dwelling house /Apartment</td>\n",
       "    </tr>\n",
       "    <tr>\n",
       "      <th>3199</th>\n",
       "      <td>2012-02-24</td>\n",
       "      <td>Meath</td>\n",
       "      <td>60000.0</td>\n",
       "      <td>No</td>\n",
       "      <td>No</td>\n",
       "      <td>Second-Hand Dwelling house /Apartment</td>\n",
       "    </tr>\n",
       "    <tr>\n",
       "      <th>9324</th>\n",
       "      <td>2016-01-20</td>\n",
       "      <td>Tipperary</td>\n",
       "      <td>165000.0</td>\n",
       "      <td>Yes</td>\n",
       "      <td>No</td>\n",
       "      <td>Second-Hand Dwelling house /Apartment</td>\n",
       "    </tr>\n",
       "  </tbody>\n",
       "</table>\n",
       "</div>"
      ],
      "text/plain": [
       "     Date of Sale     County     Price Not Full Market Price VAT Exclusive  \\\n",
       "3695   2018-04-30    Donegal  120000.0                    No            No   \n",
       "2163   2016-12-02     Dublin  115000.0                   Yes            No   \n",
       "7509   2021-01-08     Galway  520555.0                    No            No   \n",
       "3199   2012-02-24      Meath   60000.0                    No            No   \n",
       "9324   2016-01-20  Tipperary  165000.0                   Yes            No   \n",
       "\n",
       "                    Description of Property  \n",
       "3695  Second-Hand Dwelling house /Apartment  \n",
       "2163  Second-Hand Dwelling house /Apartment  \n",
       "7509  Second-Hand Dwelling house /Apartment  \n",
       "3199  Second-Hand Dwelling house /Apartment  \n",
       "9324  Second-Hand Dwelling house /Apartment  "
      ]
     },
     "execution_count": 19,
     "metadata": {},
     "output_type": "execute_result"
    }
   ],
   "source": [
    "train_data.head()"
   ]
  },
  {
   "cell_type": "code",
   "execution_count": 20,
   "metadata": {},
   "outputs": [
    {
     "name": "stdout",
     "output_type": "stream",
     "text": [
      "train data shape: (6599, 6)\n",
      "test data shape: (2829, 6)\n"
     ]
    }
   ],
   "source": [
    "print(\"train data shape:\", train_data.shape)\n",
    "print(\"test data shape:\", test_data.shape)"
   ]
  },
  {
   "cell_type": "markdown",
   "metadata": {},
   "source": [
    "### 1.2 "
   ]
  },
  {
   "cell_type": "code",
   "execution_count": 21,
   "metadata": {},
   "outputs": [
    {
     "data": {
      "text/html": [
       "<div>\n",
       "<style scoped>\n",
       "    .dataframe tbody tr th:only-of-type {\n",
       "        vertical-align: middle;\n",
       "    }\n",
       "\n",
       "    .dataframe tbody tr th {\n",
       "        vertical-align: top;\n",
       "    }\n",
       "\n",
       "    .dataframe thead th {\n",
       "        text-align: right;\n",
       "    }\n",
       "</style>\n",
       "<table border=\"1\" class=\"dataframe\">\n",
       "  <thead>\n",
       "    <tr style=\"text-align: right;\">\n",
       "      <th></th>\n",
       "      <th>Date of Sale</th>\n",
       "      <th>County</th>\n",
       "      <th>Price</th>\n",
       "      <th>Not Full Market Price</th>\n",
       "      <th>VAT Exclusive</th>\n",
       "      <th>Description of Property</th>\n",
       "      <th>month</th>\n",
       "      <th>quarter</th>\n",
       "      <th>weekday</th>\n",
       "    </tr>\n",
       "  </thead>\n",
       "  <tbody>\n",
       "    <tr>\n",
       "      <th>3695</th>\n",
       "      <td>2018-04-30</td>\n",
       "      <td>Donegal</td>\n",
       "      <td>120000.0</td>\n",
       "      <td>No</td>\n",
       "      <td>No</td>\n",
       "      <td>Second-Hand Dwelling house /Apartment</td>\n",
       "      <td>4</td>\n",
       "      <td>2</td>\n",
       "      <td>0</td>\n",
       "    </tr>\n",
       "    <tr>\n",
       "      <th>2163</th>\n",
       "      <td>2016-12-02</td>\n",
       "      <td>Dublin</td>\n",
       "      <td>115000.0</td>\n",
       "      <td>Yes</td>\n",
       "      <td>No</td>\n",
       "      <td>Second-Hand Dwelling house /Apartment</td>\n",
       "      <td>12</td>\n",
       "      <td>4</td>\n",
       "      <td>4</td>\n",
       "    </tr>\n",
       "    <tr>\n",
       "      <th>7509</th>\n",
       "      <td>2021-01-08</td>\n",
       "      <td>Galway</td>\n",
       "      <td>520555.0</td>\n",
       "      <td>No</td>\n",
       "      <td>No</td>\n",
       "      <td>Second-Hand Dwelling house /Apartment</td>\n",
       "      <td>1</td>\n",
       "      <td>1</td>\n",
       "      <td>4</td>\n",
       "    </tr>\n",
       "    <tr>\n",
       "      <th>3199</th>\n",
       "      <td>2012-02-24</td>\n",
       "      <td>Meath</td>\n",
       "      <td>60000.0</td>\n",
       "      <td>No</td>\n",
       "      <td>No</td>\n",
       "      <td>Second-Hand Dwelling house /Apartment</td>\n",
       "      <td>2</td>\n",
       "      <td>1</td>\n",
       "      <td>4</td>\n",
       "    </tr>\n",
       "    <tr>\n",
       "      <th>9324</th>\n",
       "      <td>2016-01-20</td>\n",
       "      <td>Tipperary</td>\n",
       "      <td>165000.0</td>\n",
       "      <td>Yes</td>\n",
       "      <td>No</td>\n",
       "      <td>Second-Hand Dwelling house /Apartment</td>\n",
       "      <td>1</td>\n",
       "      <td>1</td>\n",
       "      <td>2</td>\n",
       "    </tr>\n",
       "  </tbody>\n",
       "</table>\n",
       "</div>"
      ],
      "text/plain": [
       "     Date of Sale     County     Price Not Full Market Price VAT Exclusive  \\\n",
       "3695   2018-04-30    Donegal  120000.0                    No            No   \n",
       "2163   2016-12-02     Dublin  115000.0                   Yes            No   \n",
       "7509   2021-01-08     Galway  520555.0                    No            No   \n",
       "3199   2012-02-24      Meath   60000.0                    No            No   \n",
       "9324   2016-01-20  Tipperary  165000.0                   Yes            No   \n",
       "\n",
       "                    Description of Property  month  quarter  weekday  \n",
       "3695  Second-Hand Dwelling house /Apartment      4        2        0  \n",
       "2163  Second-Hand Dwelling house /Apartment     12        4        4  \n",
       "7509  Second-Hand Dwelling house /Apartment      1        1        4  \n",
       "3199  Second-Hand Dwelling house /Apartment      2        1        4  \n",
       "9324  Second-Hand Dwelling house /Apartment      1        1        2  "
      ]
     },
     "execution_count": 21,
     "metadata": {},
     "output_type": "execute_result"
    }
   ],
   "source": [
    "df1 = train_data.copy() # get a copy of original df\n",
    "df1[\"month\"] = df1[\"Date of Sale\"].dt.month # get month feature from Date of sale\n",
    "df1[\"quarter\"] = df1[\"Date of Sale\"].dt.quarter # get quarter feature from Date of sale\n",
    "df1[\"weekday\"] = df1[\"Date of Sale\"].dt.weekday # get weekday feature form Date of sale\n",
    "df1.head()"
   ]
  },
  {
   "cell_type": "markdown",
   "metadata": {},
   "source": [
    "Because the three continuous variables month, quarter and weekday are extracted from Date of sale, there is no need to plot the correlations between all the continuous features"
   ]
  },
  {
   "cell_type": "code",
   "execution_count": 22,
   "metadata": {},
   "outputs": [
    {
     "data": {
      "text/plain": [
       "Text(0.5,1,'Price~weekday')"
      ]
     },
     "execution_count": 22,
     "metadata": {},
     "output_type": "execute_result"
    },
    {
     "data": {
      "image/png": "[encoded data removed]",
      "text/plain": [
       "<Figure size 720x1512 with 3 Axes>"
      ]
     },
     "metadata": {
      "needs_background": "light"
     },
     "output_type": "display_data"
    }
   ],
   "source": [
    "### pair boxplot of continuous feature and target feature\n",
    "\n",
    "plt.figure(figsize=(10, 21))\n",
    "plt.subplot(3, 1, 1)\n",
    "sns.boxplot(x=\"month\", y=\"Price\", data=df1)\n",
    "plt.title(\"Price~month\")\n",
    "plt.subplot(3, 1, 2)\n",
    "sns.boxplot(x=\"quarter\", y=\"Price\", data=df1)\n",
    "plt.title(\"Price~quarter\")\n",
    "plt.subplot(3, 1, 3)\n",
    "sns.boxplot(x=\"weekday\", y=\"Price\", data=df1)\n",
    "plt.title(\"Price~weekday\")"
   ]
  },
  {
   "cell_type": "markdown",
   "metadata": {},
   "source": [
    "  We extracted three new variables from Date of Sale, month, quater and weekday, which can be considered as continuous variables, and made box plots for price and these three variables respectively. From the first graph price~month, we can see that the median and minimum values of price in each month are almost equal, the maximum values are different, and there are more outliers above the maximum values. The distance between the 25% quantile and the 75% quantile in June is the smallest, indicating that price is more concentrated in June, while the distance between the 25% quantile and the 75% quantile in December is the largest, indicating that price is more dispersed in December.  \n",
    "  The second graph, price~quarter, shows that the median price for each quarter, the minimum value is almost equal and the maximum value is not very different, and the 25% and 75% quartiles of price for each quarter are also almost the same, indicating that this feature of quater does not have a significant impact on price, as we will discard this feature in the subsequent analysis.  \n",
    "  In the third graph, price~weekday, you can see that the median price varies significantly by weekday, with Friday's price being significantly smaller, including the 25% quantile and the 75% quantile. There is also a large difference in price on Saturday, but there are almost no outliers for Friday and Saturday. The prices for Sunday to Thursday are almost identical, including the median, the 25% quantile and the 75% quantile. Weekday can therefore be used as a feature to predict price.  \n",
    " We chose month, weekday as the new feature for predicting price."
   ]
  },
  {
   "cell_type": "code",
   "execution_count": 23,
   "metadata": {},
   "outputs": [
    {
     "data": {
      "text/plain": [
       "Text(0.5,1,'Price~Description of Property')"
      ]
     },
     "execution_count": 23,
     "metadata": {},
     "output_type": "execute_result"
    },
    {
     "data": {
      "image/png": "[encoded data removed]",
      "text/plain": [
       "<Figure size 1440x1440 with 4 Axes>"
      ]
     },
     "metadata": {
      "needs_background": "light"
     },
     "output_type": "display_data"
    }
   ],
   "source": [
    "### pair boxplot of categorical feature and target feature\n",
    "### County, Not Full Market Price,  VAT Exclusive,  Description of Property \n",
    "\n",
    "plt.figure(figsize=(20, 20))\n",
    "plt.subplot(2, 2, 1)\n",
    "sns.boxplot(y=\"County\", x=\"Price\", data=df1, orient=\"h\") \n",
    "plt.title(\"Price~County\")\n",
    "plt.subplot(2, 2, 2)\n",
    "sns.boxplot(x=\"Not Full Market Price\", y=\"Price\", data=df1)\n",
    "plt.title(\"Price~Not Full Market Price\")\n",
    "plt.subplot(2, 2, 3)\n",
    "sns.boxplot(x=\"VAT Exclusive\", y=\"Price\", data=df1)\n",
    "plt.title(\"Price~VAT Exclusive\")\n",
    "plt.subplot(2, 2, 4)\n",
    "sns.boxplot(x=\"Description of Property\", y=\"Price\", data=df1)\n",
    "plt.title(\"Price~Description of Property\")"
   ]
  },
  {
   "cell_type": "markdown",
   "metadata": {},
   "source": [
    "We chose the four variables County, Not Full Market Price, VAT Exclusive, Description of Property as the category features and made a box plot of the relationship between these four features and the target variable price.  \n",
    "The first graph shows price~County, from which it can be seen that there are many different types of county and the box distribution of price under different counties is almost completely different, the median price under each county is almost different, as well as the 25% quantile and 75% quantile. It is because the distribution of price under each county is different that we chose county as the new feature for predicting price.  \n",
    "The second graph shows price~Not Full Market Price, from which we can see that there are only two types of Not Full Market Price, yes and no, where the median of no is higher than that of yes, and the distance between the 25% quantile and the 75% quantile of no is also greater than that of yes. We can see that the box distributions of no and yes are also different, so we can choose Not Full Market Price as the feature for predicting price.  \n",
    "The third graph shows price~VAT Exclusive. From the graph, we can see that there are only two types of VAT Exclusive, yes and no, and the box distribution of yes is higher than that of no. Therefore, we can choose VAT Exclusive as the new feature for predicting price.  \n",
    "The fourth graph shows price~Description of Property, from the graph we can see that Description of Property only has New Dwelling house /Apartment and Second-Hand Dwelling house /Apartment, and New The box distribution of New Dwelling house /Apartment is higher than that of Second-Hand Dwelling house /Apartment, so we choose Description of Property as a feature to predict price.  "
   ]
  },
  {
   "cell_type": "markdown",
   "metadata": {},
   "source": [
    "## 2. Linear Regression"
   ]
  },
  {
   "cell_type": "markdown",
   "metadata": {},
   "source": [
    "### 2.1"
   ]
  },
  {
   "cell_type": "code",
   "execution_count": 24,
   "metadata": {},
   "outputs": [
    {
     "data": {
      "text/html": [
       "<div>\n",
       "<style scoped>\n",
       "    .dataframe tbody tr th:only-of-type {\n",
       "        vertical-align: middle;\n",
       "    }\n",
       "\n",
       "    .dataframe tbody tr th {\n",
       "        vertical-align: top;\n",
       "    }\n",
       "\n",
       "    .dataframe thead th {\n",
       "        text-align: right;\n",
       "    }\n",
       "</style>\n",
       "<table border=\"1\" class=\"dataframe\">\n",
       "  <thead>\n",
       "    <tr style=\"text-align: right;\">\n",
       "      <th></th>\n",
       "      <th>Price</th>\n",
       "      <th>Not Full Market Price</th>\n",
       "      <th>VAT Exclusive</th>\n",
       "      <th>Description of Property</th>\n",
       "      <th>month</th>\n",
       "      <th>weekday</th>\n",
       "      <th>County_Carlow</th>\n",
       "      <th>County_Cavan</th>\n",
       "      <th>County_Clare</th>\n",
       "      <th>County_Cork</th>\n",
       "      <th>...</th>\n",
       "      <th>County_Meath</th>\n",
       "      <th>County_Monaghan</th>\n",
       "      <th>County_Offaly</th>\n",
       "      <th>County_Roscommon</th>\n",
       "      <th>County_Sligo</th>\n",
       "      <th>County_Tipperary</th>\n",
       "      <th>County_Waterford</th>\n",
       "      <th>County_Westmeath</th>\n",
       "      <th>County_Wexford</th>\n",
       "      <th>County_Wicklow</th>\n",
       "    </tr>\n",
       "  </thead>\n",
       "  <tbody>\n",
       "    <tr>\n",
       "      <th>3695</th>\n",
       "      <td>120000.0</td>\n",
       "      <td>0</td>\n",
       "      <td>0</td>\n",
       "      <td>1</td>\n",
       "      <td>4</td>\n",
       "      <td>0</td>\n",
       "      <td>0</td>\n",
       "      <td>0</td>\n",
       "      <td>0</td>\n",
       "      <td>0</td>\n",
       "      <td>...</td>\n",
       "      <td>0</td>\n",
       "      <td>0</td>\n",
       "      <td>0</td>\n",
       "      <td>0</td>\n",
       "      <td>0</td>\n",
       "      <td>0</td>\n",
       "      <td>0</td>\n",
       "      <td>0</td>\n",
       "      <td>0</td>\n",
       "      <td>0</td>\n",
       "    </tr>\n",
       "    <tr>\n",
       "      <th>2163</th>\n",
       "      <td>115000.0</td>\n",
       "      <td>1</td>\n",
       "      <td>0</td>\n",
       "      <td>1</td>\n",
       "      <td>12</td>\n",
       "      <td>4</td>\n",
       "      <td>0</td>\n",
       "      <td>0</td>\n",
       "      <td>0</td>\n",
       "      <td>0</td>\n",
       "      <td>...</td>\n",
       "      <td>0</td>\n",
       "      <td>0</td>\n",
       "      <td>0</td>\n",
       "      <td>0</td>\n",
       "      <td>0</td>\n",
       "      <td>0</td>\n",
       "      <td>0</td>\n",
       "      <td>0</td>\n",
       "      <td>0</td>\n",
       "      <td>0</td>\n",
       "    </tr>\n",
       "    <tr>\n",
       "      <th>7509</th>\n",
       "      <td>520555.0</td>\n",
       "      <td>0</td>\n",
       "      <td>0</td>\n",
       "      <td>1</td>\n",
       "      <td>1</td>\n",
       "      <td>4</td>\n",
       "      <td>0</td>\n",
       "      <td>0</td>\n",
       "      <td>0</td>\n",
       "      <td>0</td>\n",
       "      <td>...</td>\n",
       "      <td>0</td>\n",
       "      <td>0</td>\n",
       "      <td>0</td>\n",
       "      <td>0</td>\n",
       "      <td>0</td>\n",
       "      <td>0</td>\n",
       "      <td>0</td>\n",
       "      <td>0</td>\n",
       "      <td>0</td>\n",
       "      <td>0</td>\n",
       "    </tr>\n",
       "    <tr>\n",
       "      <th>3199</th>\n",
       "      <td>60000.0</td>\n",
       "      <td>0</td>\n",
       "      <td>0</td>\n",
       "      <td>1</td>\n",
       "      <td>2</td>\n",
       "      <td>4</td>\n",
       "      <td>0</td>\n",
       "      <td>0</td>\n",
       "      <td>0</td>\n",
       "      <td>0</td>\n",
       "      <td>...</td>\n",
       "      <td>1</td>\n",
       "      <td>0</td>\n",
       "      <td>0</td>\n",
       "      <td>0</td>\n",
       "      <td>0</td>\n",
       "      <td>0</td>\n",
       "      <td>0</td>\n",
       "      <td>0</td>\n",
       "      <td>0</td>\n",
       "      <td>0</td>\n",
       "    </tr>\n",
       "    <tr>\n",
       "      <th>9324</th>\n",
       "      <td>165000.0</td>\n",
       "      <td>1</td>\n",
       "      <td>0</td>\n",
       "      <td>1</td>\n",
       "      <td>1</td>\n",
       "      <td>2</td>\n",
       "      <td>0</td>\n",
       "      <td>0</td>\n",
       "      <td>0</td>\n",
       "      <td>0</td>\n",
       "      <td>...</td>\n",
       "      <td>0</td>\n",
       "      <td>0</td>\n",
       "      <td>0</td>\n",
       "      <td>0</td>\n",
       "      <td>0</td>\n",
       "      <td>1</td>\n",
       "      <td>0</td>\n",
       "      <td>0</td>\n",
       "      <td>0</td>\n",
       "      <td>0</td>\n",
       "    </tr>\n",
       "  </tbody>\n",
       "</table>\n",
       "<p>5 rows × 32 columns</p>\n",
       "</div>"
      ],
      "text/plain": [
       "         Price  Not Full Market Price  VAT Exclusive  Description of Property  \\\n",
       "3695  120000.0                      0              0                        1   \n",
       "2163  115000.0                      1              0                        1   \n",
       "7509  520555.0                      0              0                        1   \n",
       "3199   60000.0                      0              0                        1   \n",
       "9324  165000.0                      1              0                        1   \n",
       "\n",
       "      month  weekday  County_Carlow  County_Cavan  County_Clare  County_Cork  \\\n",
       "3695      4        0              0             0             0            0   \n",
       "2163     12        4              0             0             0            0   \n",
       "7509      1        4              0             0             0            0   \n",
       "3199      2        4              0             0             0            0   \n",
       "9324      1        2              0             0             0            0   \n",
       "\n",
       "      ...  County_Meath  County_Monaghan  County_Offaly  County_Roscommon  \\\n",
       "3695  ...             0                0              0                 0   \n",
       "2163  ...             0                0              0                 0   \n",
       "7509  ...             0                0              0                 0   \n",
       "3199  ...             1                0              0                 0   \n",
       "9324  ...             0                0              0                 0   \n",
       "\n",
       "      County_Sligo  County_Tipperary  County_Waterford  County_Westmeath  \\\n",
       "3695             0                 0                 0                 0   \n",
       "2163             0                 0                 0                 0   \n",
       "7509             0                 0                 0                 0   \n",
       "3199             0                 0                 0                 0   \n",
       "9324             0                 1                 0                 0   \n",
       "\n",
       "      County_Wexford  County_Wicklow  \n",
       "3695               0               0  \n",
       "2163               0               0  \n",
       "7509               0               0  \n",
       "3199               0               0  \n",
       "9324               0               0  \n",
       "\n",
       "[5 rows x 32 columns]"
      ]
     },
     "execution_count": 24,
     "metadata": {},
     "output_type": "execute_result"
    }
   ],
   "source": [
    "## Format data to train model\n",
    "\n",
    "df1 = df1.drop(labels=[\"Date of Sale\", \"quarter\"], axis=1) # remove data\n",
    "df1[\"Not Full Market Price\"] = df1[\"Not Full Market Price\"].replace({\"No\": 0, \"Yes\": 1}) # binary feature, using 0 and 1 represent\n",
    "df1[\"VAT Exclusive\"] = df1[\"VAT Exclusive\"].replace({\"No\": 0, \"Yes\": 1}) # binary feature, using 0 and 1 represent\n",
    "# binary feature, using 0 and 1 represent\n",
    "df1[\"Description of Property\"] = df1[\"Description of Property\"].replace({\"New Dwelling house /Apartment\": 0, \n",
    "\t\t\t\t\t\t\t\t\t\t\t\t\t\t\t\t\t\t \"Second-Hand Dwelling house /Apartment\": 1})\n",
    "\n",
    "df1 = pd.get_dummies(df1, columns=[\"County\"]) # use ont-hot encodeing\n",
    "df1.head()"
   ]
  },
  {
   "cell_type": "code",
   "execution_count": 25,
   "metadata": {},
   "outputs": [
    {
     "data": {
      "text/plain": [
       "LinearRegression()"
      ]
     },
     "execution_count": 25,
     "metadata": {},
     "output_type": "execute_result"
    }
   ],
   "source": [
    "from sklearn.linear_model import LinearRegression\n",
    "X = df1.drop(labels=\"Price\", axis=1) # get train data\n",
    "y = df1[\"Price\"] # get target data\n",
    "lr = LinearRegression() # define model\n",
    "lr.fit(X, y) # train"
   ]
  },
  {
   "cell_type": "markdown",
   "metadata": {},
   "source": [
    "### 2.2 "
   ]
  },
  {
   "cell_type": "code",
   "execution_count": 26,
   "metadata": {
    "scrolled": false
   },
   "outputs": [
    {
     "data": {
      "text/html": [
       "<div>\n",
       "<style scoped>\n",
       "    .dataframe tbody tr th:only-of-type {\n",
       "        vertical-align: middle;\n",
       "    }\n",
       "\n",
       "    .dataframe tbody tr th {\n",
       "        vertical-align: top;\n",
       "    }\n",
       "\n",
       "    .dataframe thead th {\n",
       "        text-align: right;\n",
       "    }\n",
       "</style>\n",
       "<table border=\"1\" class=\"dataframe\">\n",
       "  <thead>\n",
       "    <tr style=\"text-align: right;\">\n",
       "      <th></th>\n",
       "      <th>col</th>\n",
       "      <th>coef</th>\n",
       "    </tr>\n",
       "  </thead>\n",
       "  <tbody>\n",
       "    <tr>\n",
       "      <th>1</th>\n",
       "      <td>VAT Exclusive</td>\n",
       "      <td>6.672980e+04</td>\n",
       "    </tr>\n",
       "    <tr>\n",
       "      <th>2</th>\n",
       "      <td>Description of Property</td>\n",
       "      <td>3.792855e+04</td>\n",
       "    </tr>\n",
       "    <tr>\n",
       "      <th>4</th>\n",
       "      <td>weekday</td>\n",
       "      <td>1.482788e+03</td>\n",
       "    </tr>\n",
       "    <tr>\n",
       "      <th>3</th>\n",
       "      <td>month</td>\n",
       "      <td>1.207129e+03</td>\n",
       "    </tr>\n",
       "    <tr>\n",
       "      <th>0</th>\n",
       "      <td>Not Full Market Price</td>\n",
       "      <td>-8.223483e+04</td>\n",
       "    </tr>\n",
       "    <tr>\n",
       "      <th>10</th>\n",
       "      <td>County_Dublin</td>\n",
       "      <td>-4.198379e+15</td>\n",
       "    </tr>\n",
       "    <tr>\n",
       "      <th>30</th>\n",
       "      <td>County_Wicklow</td>\n",
       "      <td>-4.198379e+15</td>\n",
       "    </tr>\n",
       "    <tr>\n",
       "      <th>13</th>\n",
       "      <td>County_Kildare</td>\n",
       "      <td>-4.198379e+15</td>\n",
       "    </tr>\n",
       "    <tr>\n",
       "      <th>21</th>\n",
       "      <td>County_Meath</td>\n",
       "      <td>-4.198379e+15</td>\n",
       "    </tr>\n",
       "    <tr>\n",
       "      <th>8</th>\n",
       "      <td>County_Cork</td>\n",
       "      <td>-4.198379e+15</td>\n",
       "    </tr>\n",
       "    <tr>\n",
       "      <th>11</th>\n",
       "      <td>County_Galway</td>\n",
       "      <td>-4.198379e+15</td>\n",
       "    </tr>\n",
       "    <tr>\n",
       "      <th>19</th>\n",
       "      <td>County_Louth</td>\n",
       "      <td>-4.198379e+15</td>\n",
       "    </tr>\n",
       "    <tr>\n",
       "      <th>14</th>\n",
       "      <td>County_Kilkenny</td>\n",
       "      <td>-4.198379e+15</td>\n",
       "    </tr>\n",
       "    <tr>\n",
       "      <th>29</th>\n",
       "      <td>County_Wexford</td>\n",
       "      <td>-4.198379e+15</td>\n",
       "    </tr>\n",
       "    <tr>\n",
       "      <th>17</th>\n",
       "      <td>County_Limerick</td>\n",
       "      <td>-4.198379e+15</td>\n",
       "    </tr>\n",
       "    <tr>\n",
       "      <th>12</th>\n",
       "      <td>County_Kerry</td>\n",
       "      <td>-4.198379e+15</td>\n",
       "    </tr>\n",
       "    <tr>\n",
       "      <th>27</th>\n",
       "      <td>County_Waterford</td>\n",
       "      <td>-4.198379e+15</td>\n",
       "    </tr>\n",
       "    <tr>\n",
       "      <th>7</th>\n",
       "      <td>County_Clare</td>\n",
       "      <td>-4.198379e+15</td>\n",
       "    </tr>\n",
       "    <tr>\n",
       "      <th>5</th>\n",
       "      <td>County_Carlow</td>\n",
       "      <td>-4.198379e+15</td>\n",
       "    </tr>\n",
       "    <tr>\n",
       "      <th>28</th>\n",
       "      <td>County_Westmeath</td>\n",
       "      <td>-4.198379e+15</td>\n",
       "    </tr>\n",
       "    <tr>\n",
       "      <th>15</th>\n",
       "      <td>County_Laois</td>\n",
       "      <td>-4.198379e+15</td>\n",
       "    </tr>\n",
       "    <tr>\n",
       "      <th>23</th>\n",
       "      <td>County_Offaly</td>\n",
       "      <td>-4.198379e+15</td>\n",
       "    </tr>\n",
       "    <tr>\n",
       "      <th>22</th>\n",
       "      <td>County_Monaghan</td>\n",
       "      <td>-4.198379e+15</td>\n",
       "    </tr>\n",
       "    <tr>\n",
       "      <th>20</th>\n",
       "      <td>County_Mayo</td>\n",
       "      <td>-4.198379e+15</td>\n",
       "    </tr>\n",
       "    <tr>\n",
       "      <th>25</th>\n",
       "      <td>County_Sligo</td>\n",
       "      <td>-4.198379e+15</td>\n",
       "    </tr>\n",
       "    <tr>\n",
       "      <th>26</th>\n",
       "      <td>County_Tipperary</td>\n",
       "      <td>-4.198379e+15</td>\n",
       "    </tr>\n",
       "    <tr>\n",
       "      <th>6</th>\n",
       "      <td>County_Cavan</td>\n",
       "      <td>-4.198379e+15</td>\n",
       "    </tr>\n",
       "    <tr>\n",
       "      <th>24</th>\n",
       "      <td>County_Roscommon</td>\n",
       "      <td>-4.198379e+15</td>\n",
       "    </tr>\n",
       "    <tr>\n",
       "      <th>9</th>\n",
       "      <td>County_Donegal</td>\n",
       "      <td>-4.198379e+15</td>\n",
       "    </tr>\n",
       "    <tr>\n",
       "      <th>16</th>\n",
       "      <td>County_Leitrim</td>\n",
       "      <td>-4.198379e+15</td>\n",
       "    </tr>\n",
       "    <tr>\n",
       "      <th>18</th>\n",
       "      <td>County_Longford</td>\n",
       "      <td>-4.198379e+15</td>\n",
       "    </tr>\n",
       "  </tbody>\n",
       "</table>\n",
       "</div>"
      ],
      "text/plain": [
       "                        col          coef\n",
       "1             VAT Exclusive  6.672980e+04\n",
       "2   Description of Property  3.792855e+04\n",
       "4                   weekday  1.482788e+03\n",
       "3                     month  1.207129e+03\n",
       "0     Not Full Market Price -8.223483e+04\n",
       "10            County_Dublin -4.198379e+15\n",
       "30           County_Wicklow -4.198379e+15\n",
       "13           County_Kildare -4.198379e+15\n",
       "21             County_Meath -4.198379e+15\n",
       "8               County_Cork -4.198379e+15\n",
       "11            County_Galway -4.198379e+15\n",
       "19             County_Louth -4.198379e+15\n",
       "14          County_Kilkenny -4.198379e+15\n",
       "29           County_Wexford -4.198379e+15\n",
       "17          County_Limerick -4.198379e+15\n",
       "12             County_Kerry -4.198379e+15\n",
       "27         County_Waterford -4.198379e+15\n",
       "7              County_Clare -4.198379e+15\n",
       "5             County_Carlow -4.198379e+15\n",
       "28         County_Westmeath -4.198379e+15\n",
       "15             County_Laois -4.198379e+15\n",
       "23            County_Offaly -4.198379e+15\n",
       "22          County_Monaghan -4.198379e+15\n",
       "20              County_Mayo -4.198379e+15\n",
       "25             County_Sligo -4.198379e+15\n",
       "26         County_Tipperary -4.198379e+15\n",
       "6              County_Cavan -4.198379e+15\n",
       "24         County_Roscommon -4.198379e+15\n",
       "9            County_Donegal -4.198379e+15\n",
       "16           County_Leitrim -4.198379e+15\n",
       "18          County_Longford -4.198379e+15"
      ]
     },
     "execution_count": 26,
     "metadata": {},
     "output_type": "execute_result"
    }
   ],
   "source": [
    "coef_dataframe = pd.DataFrame({\"col\": X.columns, \"coef\": lr.coef_}) # create a dataframe of coef \n",
    "coef_dataframe = coef_dataframe.sort_values(by='coef', ascending=False) # sort dataframe\n",
    "coef_dataframe"
   ]
  },
  {
   "cell_type": "markdown",
   "metadata": {},
   "source": [
    "coef_dataframe is a table of the coefficients of the linear regression model. The table is arranged in descending order of coefficients, from which we can see that the features contributing to the linear regression model are: VAT Exclusive, Description of Property, weekday, month. \n",
    "The coefficients on the subcategories of the County variable are all small, indicating that the County variable does not contribute to the weighting of the coefficients in the linear regression.  \n",
    "\n",
    "By looking at the coefficient tables, we can finally conclude that in the linear regression the key characteristics are VAT Exclusive, Description of Property, weekday and month and the non-key characteristics are Not Full Market Price and County.\n"
   ]
  },
  {
   "cell_type": "markdown",
   "metadata": {},
   "source": [
    "### 2.3 "
   ]
  },
  {
   "cell_type": "code",
   "execution_count": 27,
   "metadata": {},
   "outputs": [
    {
     "data": {
      "text/html": [
       "<div>\n",
       "<style scoped>\n",
       "    .dataframe tbody tr th:only-of-type {\n",
       "        vertical-align: middle;\n",
       "    }\n",
       "\n",
       "    .dataframe tbody tr th {\n",
       "        vertical-align: top;\n",
       "    }\n",
       "\n",
       "    .dataframe thead th {\n",
       "        text-align: right;\n",
       "    }\n",
       "</style>\n",
       "<table border=\"1\" class=\"dataframe\">\n",
       "  <thead>\n",
       "    <tr style=\"text-align: right;\">\n",
       "      <th></th>\n",
       "      <th>Truth Price</th>\n",
       "      <th>Predicted Price</th>\n",
       "    </tr>\n",
       "  </thead>\n",
       "  <tbody>\n",
       "    <tr>\n",
       "      <th>3695</th>\n",
       "      <td>120000.00</td>\n",
       "      <td>95978.5</td>\n",
       "    </tr>\n",
       "    <tr>\n",
       "      <th>2163</th>\n",
       "      <td>115000.00</td>\n",
       "      <td>214426.0</td>\n",
       "    </tr>\n",
       "    <tr>\n",
       "      <th>7509</th>\n",
       "      <td>520555.00</td>\n",
       "      <td>176182.5</td>\n",
       "    </tr>\n",
       "    <tr>\n",
       "      <th>3199</th>\n",
       "      <td>60000.00</td>\n",
       "      <td>228875.5</td>\n",
       "    </tr>\n",
       "    <tr>\n",
       "      <th>9324</th>\n",
       "      <td>165000.00</td>\n",
       "      <td>42434.0</td>\n",
       "    </tr>\n",
       "    <tr>\n",
       "      <th>4280</th>\n",
       "      <td>351945.27</td>\n",
       "      <td>312288.0</td>\n",
       "    </tr>\n",
       "    <tr>\n",
       "      <th>5149</th>\n",
       "      <td>290000.00</td>\n",
       "      <td>244264.5</td>\n",
       "    </tr>\n",
       "    <tr>\n",
       "      <th>8582</th>\n",
       "      <td>65000.00</td>\n",
       "      <td>139506.0</td>\n",
       "    </tr>\n",
       "    <tr>\n",
       "      <th>7163</th>\n",
       "      <td>60000.00</td>\n",
       "      <td>81298.5</td>\n",
       "    </tr>\n",
       "    <tr>\n",
       "      <th>2999</th>\n",
       "      <td>253000.00</td>\n",
       "      <td>287384.0</td>\n",
       "    </tr>\n",
       "  </tbody>\n",
       "</table>\n",
       "</div>"
      ],
      "text/plain": [
       "      Truth Price  Predicted Price\n",
       "3695    120000.00          95978.5\n",
       "2163    115000.00         214426.0\n",
       "7509    520555.00         176182.5\n",
       "3199     60000.00         228875.5\n",
       "9324    165000.00          42434.0\n",
       "4280    351945.27         312288.0\n",
       "5149    290000.00         244264.5\n",
       "8582     65000.00         139506.0\n",
       "7163     60000.00          81298.5\n",
       "2999    253000.00         287384.0"
      ]
     },
     "execution_count": 27,
     "metadata": {},
     "output_type": "execute_result"
    }
   ],
   "source": [
    "sample_data = X[:10] # get sample data\n",
    "pred_price = lr.predict(sample_data) # predict data \n",
    "price_df = pd.DataFrame({\"Truth Price\": y[:10], \"Predicted Price\": pred_price}) # create dataframe\n",
    "price_df"
   ]
  },
  {
   "cell_type": "code",
   "execution_count": 28,
   "metadata": {},
   "outputs": [
    {
     "name": "stdout",
     "output_type": "stream",
     "text": [
      "MAE on full train dataset: 81384.01388392181\n",
      "RMSE on full train dataset: 103739.49109827334\n"
     ]
    }
   ],
   "source": [
    "from sklearn.metrics import mean_squared_error, mean_absolute_error\n",
    "pred_train_set = lr.predict(X) # predict \n",
    "print(\"MAE on full train dataset:\", mean_absolute_error(pred_train_set, y))\n",
    "print(\"RMSE on full train dataset:\", np.sqrt(mean_squared_error(pred_train_set, y)))"
   ]
  },
  {
   "cell_type": "markdown",
   "metadata": {},
   "source": [
    "Looking at the predicted values of the 10 samples, we can see that there is still a big difference between the predicted prices and the real prices. Looking at the prediction results's root mean square error is 103739 and the absolute value error is 81384 on the training set, it can be seen that the linear regression model does not predict PRICE very well, because the values of both RMSE and MAE are larger.  \n"
   ]
  },
  {
   "cell_type": "markdown",
   "metadata": {},
   "source": [
    "### 2.4 "
   ]
  },
  {
   "cell_type": "code",
   "execution_count": 29,
   "metadata": {},
   "outputs": [
    {
     "name": "stdout",
     "output_type": "stream",
     "text": [
      "MAE on full test dataset: 78775.69312477908\n",
      "RMSE on full test dataset: 100982.36836298491\n"
     ]
    }
   ],
   "source": [
    "df1 = test_data.copy()\n",
    "## process test data same as train data\n",
    "df1[\"month\"] = df1[\"Date of Sale\"].dt.month\n",
    "df1[\"weekday\"] = df1[\"Date of Sale\"].dt.weekday\n",
    "df1 = df1.drop(labels=[\"Date of Sale\"], axis=1)\n",
    "df1[\"Not Full Market Price\"] = df1[\"Not Full Market Price\"].replace({\"No\": 0, \"Yes\": 1})\n",
    "df1[\"VAT Exclusive\"] = df1[\"VAT Exclusive\"].replace({\"No\": 0, \"Yes\": 1})\n",
    "df1[\"Description of Property\"] = df1[\"Description of Property\"].replace({\"New Dwelling house /Apartment\": 0,\n",
    "\t\t\t\t\t\t\t\t\t\t\t\t\t\t\t\t\t\t \"Second-Hand Dwelling house /Apartment\": 1})\n",
    "\n",
    "df1 = pd.get_dummies(df1, columns=[\"County\"])\n",
    "\n",
    "# get X_test and y_test \n",
    "X_test = df1.drop(labels=\"Price\", axis=1) \n",
    "y_test = df1[\"Price\"]\n",
    "\n",
    "pred_test_set = lr.predict(X_test) # predict \n",
    "print(\"MAE on full test dataset:\", mean_absolute_error(pred_test_set, y_test))\n",
    "print(\"RMSE on full test dataset:\", np.sqrt(mean_squared_error(pred_test_set, y_test)))"
   ]
  },
  {
   "cell_type": "code",
   "execution_count": 30,
   "metadata": {},
   "outputs": [
    {
     "name": "stdout",
     "output_type": "stream",
     "text": [
      "MAE on full dataset using k-fold cross-validation: 80785.56382392478\n",
      "RMSE on full dataset using k-fold cross-validation: 103228.30897961612\n"
     ]
    }
   ],
   "source": [
    "from sklearn.model_selection import cross_val_score\n",
    "\n",
    "full_X = np.vstack((X, X_test)) # get all data\n",
    "full_y = np.append(y, y_test) # get all y\n",
    "\n",
    "lr = LinearRegression() # define new model\n",
    "mae_scores = cross_val_score(lr, full_X, full_y, scoring=\"neg_mean_absolute_error\", cv=5)  # define classic k-fold cross-validation\n",
    "print(\"MAE on full dataset using k-fold cross-validation:\", -np.mean(mae_scores))\n",
    "\n",
    "rmse_scores = cross_val_score(lr, full_X, full_y, scoring=\"neg_mean_squared_error\", cv=5)  # define classic k-fold cross-validation\n",
    "print(\"RMSE on full dataset using k-fold cross-validation:\", np.sqrt(-np.mean(rmse_scores)))"
   ]
  },
  {
   "cell_type": "markdown",
   "metadata": {},
   "source": [
    "The MAE on the test set was 78775 and the MAE on the training set was 81384,  The RMSE on the test set was 100982 and the RMSE on the training set was 103739. The MAE and RMSE on the test set was slightly smaller than the MAE and RMSE on the training set because there were fewer samples on the test set. However, they were close, indicating that linear regression did not under- or over-fit on this data set.  \n",
    "\n",
    "The mean MAE value obtained was 80785 using a 5-fold cross-validation on all datasets, The mean RMSE value obtained was 103228 using a 5-fold cross-validation on all datasets. This approach selected 80% of the data as the training set and the remaining 20% as the test set five times each. This selection method is more stable than simply dividing the training and test sets to obtain a MAE and RMSE that is not affected by the division of the data. The mean MAE value of 80785 and the mean RMSE value of 103228 is slightly higher than the MAE and RMSE value obtained by dividing the data set, indicating that the test set obtained by dividing the data set is exactly the part with the smaller MAE and RMSE, which are smaller than the cross-validation on all datasets."
   ]
  },
  {
   "cell_type": "markdown",
   "metadata": {},
   "source": [
    "## 3.Decision Tree"
   ]
  },
  {
   "cell_type": "markdown",
   "metadata": {},
   "source": [
    "### 3.1"
   ]
  },
  {
   "cell_type": "code",
   "execution_count": 31,
   "metadata": {},
   "outputs": [
    {
     "data": {
      "text/plain": [
       "DecisionTreeRegressor()"
      ]
     },
     "execution_count": 31,
     "metadata": {},
     "output_type": "execute_result"
    }
   ],
   "source": [
    "from sklearn.tree import DecisionTreeRegressor\n",
    "\n",
    "tree = DecisionTreeRegressor()\n",
    "tree.fit(X, y)"
   ]
  },
  {
   "cell_type": "markdown",
   "metadata": {},
   "source": [
    "### 3.2"
   ]
  },
  {
   "cell_type": "code",
   "execution_count": 32,
   "metadata": {},
   "outputs": [
    {
     "data": {
      "image/png": "[encoded data removed]",
      "text/plain": [
       "<Figure size 720x576 with 1 Axes>"
      ]
     },
     "metadata": {
      "needs_background": "light"
     },
     "output_type": "display_data"
    }
   ],
   "source": [
    "feat_importance = tree.feature_importances_  ## get tree's feature importance\n",
    "feat_importance = pd.DataFrame(feat_importance, columns=['Score'],\n",
    "                               index=X.columns) # get importance dataframe\n",
    "feat_importance = feat_importance.sort_values(by='Score', ascending=False) # sort\n",
    "plt.figure(figsize=(10, 8))\n",
    "plt.title('Feature Importances')\n",
    "sns.barplot(x=feat_importance.Score, y=feat_importance.index) # plot\n",
    "plt.show()"
   ]
  },
  {
   "cell_type": "markdown",
   "metadata": {},
   "source": [
    "This model is obtained by training a decision tree on training data. The figure above shows a visualisation of the decision tree model with respect to the importance of the features, the vertical coordinate of the figure is the name of each feature and the horizontal coordinate is the degree of importance of each feature, each feature is listed in descending order of importance. From the graph, we can see that the top 5 features in order are: County_Dublin, month, weekday, Not Full Market Price, County_Wicklow. The next features are almost all other sub-features of County, indicating that these sub-features do not contribute to the model.  \n",
    "\n",
    "Therefore it can be concluded that the features that influence the decision tree are County_Dublin, month, weekday, Not Full Market Price, County_Wicklow."
   ]
  },
  {
   "cell_type": "markdown",
   "metadata": {},
   "source": [
    "### 3.3 "
   ]
  },
  {
   "cell_type": "code",
   "execution_count": 33,
   "metadata": {},
   "outputs": [
    {
     "data": {
      "text/html": [
       "<div>\n",
       "<style scoped>\n",
       "    .dataframe tbody tr th:only-of-type {\n",
       "        vertical-align: middle;\n",
       "    }\n",
       "\n",
       "    .dataframe tbody tr th {\n",
       "        vertical-align: top;\n",
       "    }\n",
       "\n",
       "    .dataframe thead th {\n",
       "        text-align: right;\n",
       "    }\n",
       "</style>\n",
       "<table border=\"1\" class=\"dataframe\">\n",
       "  <thead>\n",
       "    <tr style=\"text-align: right;\">\n",
       "      <th></th>\n",
       "      <th>Truth Price</th>\n",
       "      <th>Predicted Price</th>\n",
       "    </tr>\n",
       "  </thead>\n",
       "  <tbody>\n",
       "    <tr>\n",
       "      <th>3695</th>\n",
       "      <td>120000.00</td>\n",
       "      <td>120000.000000</td>\n",
       "    </tr>\n",
       "    <tr>\n",
       "      <th>2163</th>\n",
       "      <td>115000.00</td>\n",
       "      <td>175026.000000</td>\n",
       "    </tr>\n",
       "    <tr>\n",
       "      <th>7509</th>\n",
       "      <td>520555.00</td>\n",
       "      <td>205711.000000</td>\n",
       "    </tr>\n",
       "    <tr>\n",
       "      <th>3199</th>\n",
       "      <td>60000.00</td>\n",
       "      <td>140500.000000</td>\n",
       "    </tr>\n",
       "    <tr>\n",
       "      <th>9324</th>\n",
       "      <td>165000.00</td>\n",
       "      <td>165000.000000</td>\n",
       "    </tr>\n",
       "    <tr>\n",
       "      <th>4280</th>\n",
       "      <td>351945.27</td>\n",
       "      <td>245775.790000</td>\n",
       "    </tr>\n",
       "    <tr>\n",
       "      <th>5149</th>\n",
       "      <td>290000.00</td>\n",
       "      <td>204285.714286</td>\n",
       "    </tr>\n",
       "    <tr>\n",
       "      <th>8582</th>\n",
       "      <td>65000.00</td>\n",
       "      <td>65000.000000</td>\n",
       "    </tr>\n",
       "    <tr>\n",
       "      <th>7163</th>\n",
       "      <td>60000.00</td>\n",
       "      <td>60000.000000</td>\n",
       "    </tr>\n",
       "    <tr>\n",
       "      <th>2999</th>\n",
       "      <td>253000.00</td>\n",
       "      <td>304886.363636</td>\n",
       "    </tr>\n",
       "  </tbody>\n",
       "</table>\n",
       "</div>"
      ],
      "text/plain": [
       "      Truth Price  Predicted Price\n",
       "3695    120000.00    120000.000000\n",
       "2163    115000.00    175026.000000\n",
       "7509    520555.00    205711.000000\n",
       "3199     60000.00    140500.000000\n",
       "9324    165000.00    165000.000000\n",
       "4280    351945.27    245775.790000\n",
       "5149    290000.00    204285.714286\n",
       "8582     65000.00     65000.000000\n",
       "7163     60000.00     60000.000000\n",
       "2999    253000.00    304886.363636"
      ]
     },
     "execution_count": 33,
     "metadata": {},
     "output_type": "execute_result"
    }
   ],
   "source": [
    "sample_data = X[:10] # get sample data\n",
    "pred_price = tree.predict(sample_data) # predict data \n",
    "price_df = pd.DataFrame({\"Truth Price\": y[:10], \"Predicted Price\": pred_price}) # create dataframe\n",
    "price_df"
   ]
  },
  {
   "cell_type": "code",
   "execution_count": 34,
   "metadata": {},
   "outputs": [
    {
     "name": "stdout",
     "output_type": "stream",
     "text": [
      "MAE on full train dataset: 63491.22812874405\n",
      "RMSE on full train dataset: 88825.2643878803\n"
     ]
    }
   ],
   "source": [
    "pred_train_set = tree.predict(X) # predict \n",
    "print(\"MAE on full train dataset:\", mean_absolute_error(pred_train_set, y))\n",
    "print(\"RMSE on full train dataset:\", np.sqrt(mean_squared_error(pred_train_set, y)))"
   ]
  },
  {
   "cell_type": "markdown",
   "metadata": {},
   "source": [
    "Looking at the results of the 10 sample values predicted by the decision tree, which are closer to the true values, and comparing the results predicted by linear regression, it can be judged that the results predicted by the decision tree are more accurate.  \n",
    "\n",
    "The MAE between the predicted and true values was 63491, which was less than the MAE of linear regression which was 81 384, The RMSE between the predicted and true values was 88825, which was less than the RMSE of linear regression which was 103739 and this shows that the prediction on the training set was better than linear regression."
   ]
  },
  {
   "cell_type": "markdown",
   "metadata": {},
   "source": [
    "### 3.4 "
   ]
  },
  {
   "cell_type": "code",
   "execution_count": 35,
   "metadata": {},
   "outputs": [
    {
     "name": "stdout",
     "output_type": "stream",
     "text": [
      "MAE on full test dataset: 90204.35969323211\n",
      "RMSE on full test dataset: 116047.9711347309\n"
     ]
    }
   ],
   "source": [
    "pred_test_set = tree.predict(X_test) # predict \n",
    "print(\"MAE on full test dataset:\", mean_absolute_error(pred_test_set, y_test))\n",
    "print(\"RMSE on full test dataset:\", np.sqrt(mean_squared_error(pred_test_set, y_test)))"
   ]
  },
  {
   "cell_type": "code",
   "execution_count": 36,
   "metadata": {},
   "outputs": [
    {
     "name": "stdout",
     "output_type": "stream",
     "text": [
      "MAE on full dataset using k-fold cross-validation: 91085.96988458416\n",
      "RMSE on full dataset using k-fold cross-validation: 117138.91715522153\n"
     ]
    }
   ],
   "source": [
    "tree = DecisionTreeRegressor() # define new model\n",
    "mae_scores = cross_val_score(tree, full_X, full_y, scoring=\"neg_mean_absolute_error\", cv=5)  # define classic k-fold cross-validation\n",
    "print(\"MAE on full dataset using k-fold cross-validation:\", -np.mean(mae_scores))\n",
    "\n",
    "rmse_scores = cross_val_score(tree, full_X, full_y, scoring=\"neg_mean_squared_error\", cv=5)  # define classic k-fold cross-validation\n",
    "print(\"RMSE on full dataset using k-fold cross-validation:\", np.sqrt(-np.mean(rmse_scores)))"
   ]
  },
  {
   "cell_type": "markdown",
   "metadata": {},
   "source": [
    "The MAE value of the decision tree on the test set was 90204, which was higher than the MAE value of linear regression at 78775. The RMSE value of the decision tree on the test set was 116047, which was higher than the RMSE value of linear regression at 100982, but the MAE value  and RMSE value of the decision tree on the training set was lower than that of linear regression, indicating that the decision tree was overfitting on this regression problem, resulting in less accurate predictions of the model on the test set.  \n",
    "\n",
    "The MAE of the decision tree on the whole dataset using cross-validation is 91085 which is higher than the MAE value of 80785 for the cross-validation of the linear regression. The RMSE of the decision tree on the whole dataset using cross-validation is 117138 which is higher than the RMSE value of 103228 for the cross-validation of the linear regression, indicating that the linear regression performed better, because the cross-validation'result is more stable."
   ]
  },
  {
   "cell_type": "markdown",
   "metadata": {},
   "source": [
    "##  4.  Random Forest"
   ]
  },
  {
   "cell_type": "markdown",
   "metadata": {},
   "source": [
    "### 4.1"
   ]
  },
  {
   "cell_type": "code",
   "execution_count": 37,
   "metadata": {},
   "outputs": [
    {
     "data": {
      "text/plain": [
       "RandomForestRegressor()"
      ]
     },
     "execution_count": 37,
     "metadata": {},
     "output_type": "execute_result"
    }
   ],
   "source": [
    "from sklearn.ensemble import RandomForestRegressor\n",
    "\n",
    "rf = RandomForestRegressor()\n",
    "rf.fit(X, y)"
   ]
  },
  {
   "cell_type": "markdown",
   "metadata": {},
   "source": [
    "### 4.2"
   ]
  },
  {
   "cell_type": "code",
   "execution_count": 38,
   "metadata": {},
   "outputs": [
    {
     "data": {
      "image/png": "[encoded data removed]",
      "text/plain": [
       "<Figure size 720x576 with 1 Axes>"
      ]
     },
     "metadata": {
      "needs_background": "light"
     },
     "output_type": "display_data"
    }
   ],
   "source": [
    "feat_importance = rf.feature_importances_  ## get random forest's feature importance\n",
    "feat_importance = pd.DataFrame(feat_importance, columns=['Score'],\n",
    "                               index=X.columns) # get importance dataframe\n",
    "feat_importance = feat_importance.sort_values(by='Score', ascending=False) # sort\n",
    "plt.figure(figsize=(10, 8))\n",
    "plt.title('Feature Importances')\n",
    "sns.barplot(x=feat_importance.Score, y=feat_importance.index) # plot\n",
    "plt.show()"
   ]
  },
  {
   "cell_type": "markdown",
   "metadata": {},
   "source": [
    "This model is obtained by training a random forest on training data. The figure above shows a visualisation of the random forest model with respect to the importance of the features, the vertical coordinate of the figure is the name of each feature and the horizontal coordinate is the degree of importance of each feature, each feature is listed in descending order of importance. From the graph, we can see that the top 5 features in order are: County_Dublin, month, weekday, Not Full Market Price, County_Wicklow. The next features are almost all other sub-features of County, indicating that these sub-features do not contribute to the model.  \n",
    "\n",
    "Therefore it can be concluded that the features that influence the random forest are County_Dublin, month, weekday, Not Full Market Price, County_Wicklow."
   ]
  },
  {
   "cell_type": "markdown",
   "metadata": {},
   "source": [
    "### 4.3"
   ]
  },
  {
   "cell_type": "code",
   "execution_count": 39,
   "metadata": {},
   "outputs": [
    {
     "data": {
      "text/html": [
       "<div>\n",
       "<style scoped>\n",
       "    .dataframe tbody tr th:only-of-type {\n",
       "        vertical-align: middle;\n",
       "    }\n",
       "\n",
       "    .dataframe tbody tr th {\n",
       "        vertical-align: top;\n",
       "    }\n",
       "\n",
       "    .dataframe thead th {\n",
       "        text-align: right;\n",
       "    }\n",
       "</style>\n",
       "<table border=\"1\" class=\"dataframe\">\n",
       "  <thead>\n",
       "    <tr style=\"text-align: right;\">\n",
       "      <th></th>\n",
       "      <th>Truth Price</th>\n",
       "      <th>Predicted Price</th>\n",
       "    </tr>\n",
       "  </thead>\n",
       "  <tbody>\n",
       "    <tr>\n",
       "      <th>3695</th>\n",
       "      <td>120000.00</td>\n",
       "      <td>105181.310233</td>\n",
       "    </tr>\n",
       "    <tr>\n",
       "      <th>2163</th>\n",
       "      <td>115000.00</td>\n",
       "      <td>178112.345621</td>\n",
       "    </tr>\n",
       "    <tr>\n",
       "      <th>7509</th>\n",
       "      <td>520555.00</td>\n",
       "      <td>203195.773200</td>\n",
       "    </tr>\n",
       "    <tr>\n",
       "      <th>3199</th>\n",
       "      <td>60000.00</td>\n",
       "      <td>133294.289683</td>\n",
       "    </tr>\n",
       "    <tr>\n",
       "      <th>9324</th>\n",
       "      <td>165000.00</td>\n",
       "      <td>150564.500000</td>\n",
       "    </tr>\n",
       "    <tr>\n",
       "      <th>4280</th>\n",
       "      <td>351945.27</td>\n",
       "      <td>244789.637610</td>\n",
       "    </tr>\n",
       "    <tr>\n",
       "      <th>5149</th>\n",
       "      <td>290000.00</td>\n",
       "      <td>207481.024892</td>\n",
       "    </tr>\n",
       "    <tr>\n",
       "      <th>8582</th>\n",
       "      <td>65000.00</td>\n",
       "      <td>93533.690476</td>\n",
       "    </tr>\n",
       "    <tr>\n",
       "      <th>7163</th>\n",
       "      <td>60000.00</td>\n",
       "      <td>82843.042800</td>\n",
       "    </tr>\n",
       "    <tr>\n",
       "      <th>2999</th>\n",
       "      <td>253000.00</td>\n",
       "      <td>309476.192291</td>\n",
       "    </tr>\n",
       "  </tbody>\n",
       "</table>\n",
       "</div>"
      ],
      "text/plain": [
       "      Truth Price  Predicted Price\n",
       "3695    120000.00    105181.310233\n",
       "2163    115000.00    178112.345621\n",
       "7509    520555.00    203195.773200\n",
       "3199     60000.00    133294.289683\n",
       "9324    165000.00    150564.500000\n",
       "4280    351945.27    244789.637610\n",
       "5149    290000.00    207481.024892\n",
       "8582     65000.00     93533.690476\n",
       "7163     60000.00     82843.042800\n",
       "2999    253000.00    309476.192291"
      ]
     },
     "execution_count": 39,
     "metadata": {},
     "output_type": "execute_result"
    }
   ],
   "source": [
    "sample_data = X[:10] # get sample data\n",
    "pred_price = rf.predict(sample_data) # predict data \n",
    "price_df = pd.DataFrame({\"Truth Price\": y[:10], \"Predicted Price\": pred_price}) # create dataframe\n",
    "price_df"
   ]
  },
  {
   "cell_type": "code",
   "execution_count": 42,
   "metadata": {},
   "outputs": [
    {
     "name": "stdout",
     "output_type": "stream",
     "text": [
      "MAE on full train dataset: 67611.75054463657\n",
      "RMSE on full train dataset: 90100.89241199565\n"
     ]
    }
   ],
   "source": [
    "pred_train_set = rf.predict(X) # predict \n",
    "print(\"MAE on full train dataset:\", mean_absolute_error(pred_train_set, y))\n",
    "print(\"RMSE on full train dataset:\", np.sqrt(mean_squared_error(pred_train_set, y)))"
   ]
  },
  {
   "cell_type": "markdown",
   "metadata": {},
   "source": [
    "Looking at the results of the 10 sample values predicted by the random forest, which are closer to the true values, and comparing the results predicted by linear regression, it can be judged that the results predicted by the random forest are more accurate on train set.  \n",
    "\n",
    "The MAE between the predicted and true values was 67611, which was less than the MAE of linear regression which was 81 384, The RMSE between the predicted and true values was 90100, which was less than the RMSE of linear regression which was 103739 and this shows that the prediction on the training set was better than linear regression."
   ]
  },
  {
   "cell_type": "markdown",
   "metadata": {},
   "source": [
    "### 4.4"
   ]
  },
  {
   "cell_type": "code",
   "execution_count": 43,
   "metadata": {},
   "outputs": [
    {
     "name": "stdout",
     "output_type": "stream",
     "text": [
      "MAE on full test dataset: 85544.29788188198\n",
      "RMSE on full test dataset: 109850.14154156287\n"
     ]
    }
   ],
   "source": [
    "pred_test_set = rf.predict(X_test) # predict \n",
    "print(\"MAE on full test dataset:\", mean_absolute_error(pred_test_set, y_test))\n",
    "print(\"RMSE on full test dataset:\", np.sqrt(mean_squared_error(pred_test_set, y_test)))"
   ]
  },
  {
   "cell_type": "code",
   "execution_count": 44,
   "metadata": {},
   "outputs": [
    {
     "name": "stdout",
     "output_type": "stream",
     "text": [
      "MAE on full dataset using k-fold cross-validation: 86930.85377308779\n",
      "RMSE on full dataset using k-fold cross-validation: 117167.67783420737\n"
     ]
    }
   ],
   "source": [
    "rf = RandomForestRegressor() # define new model\n",
    "mae_scores = cross_val_score(rf, full_X, full_y, scoring=\"neg_mean_absolute_error\", cv=5)  # define classic k-fold cross-validation\n",
    "print(\"MAE on full dataset using k-fold cross-validation:\", -np.mean(mae_scores))\n",
    "\n",
    "rmse_scores = cross_val_score(tree, full_X, full_y, scoring=\"neg_mean_squared_error\", cv=5)  # define classic k-fold cross-validation\n",
    "print(\"RMSE on full dataset using k-fold cross-validation:\", np.sqrt(-np.mean(rmse_scores)))"
   ]
  },
  {
   "cell_type": "markdown",
   "metadata": {},
   "source": [
    "The MAE value of the random forest on the test set was 85544, which was higher than the MAE value of linear regression at 78775. The RMSE value of the decision tree on the test set was 109850, which was higher than the RMSE value of linear regression at 100982, but the MAE value  and RMSE value of the random forest on the training set was lower than that of linear regression, indicating that the random forest was overfitting on this regression problem, resulting in less accurate predictions of the model on the test set.  \n",
    "\n",
    "The MAE of the random forest on the whole dataset using cross-validation is 86930 which is higher than the MAE value of 80785 for the cross-validation of the linear regression. The RMSE of the random forest on the whole dataset using cross-validation is 117167 which is higher than the RMSE value of 103228 for the cross-validation of the linear regression, indicating that the linear regression performed better, because the cross-validation'result is more stable.\n",
    "\n"
   ]
  },
  {
   "cell_type": "markdown",
   "metadata": {},
   "source": [
    "## 5.Improving Predictive Models."
   ]
  },
  {
   "cell_type": "markdown",
   "metadata": {},
   "source": [
    "### 5.1"
   ]
  },
  {
   "cell_type": "markdown",
   "metadata": {},
   "source": [
    "| Model | train set MAE | test set MAE | cross validation MAE | train set RMSE | test set RMSE | cross validation RMSE |\n",
    "|---------------|----------|-----------|-------|\n",
    "|     linear regression     |   81384   |   78775       | 80785| 103739 | 100982| 103228 |\n",
    "|    decision tree     |    63491  |      90002    | 91060| 88825|  116047 | 117138|\n",
    "|     random forest      |  67640   |   85766      |  86884 |90100 | 109850 | 117167 | "
   ]
  },
  {
   "cell_type": "markdown",
   "metadata": {},
   "source": [
    "Comparing the RMSE values and  MAE values of each model in the above table on different datasets, it can be seen that decision trees and random forests perform better on the training set, but worse on the test set. In contrast, linear regression outperforms both decision trees and random forests in both the test set and cross-validation, so linear regression is the best model, because the goodness of the model's results in the test set and cross-validation are more representative of the model's ability to predict unknown data. So we are more interested in how the model performs on the test set."
   ]
  },
  {
   "cell_type": "markdown",
   "metadata": {},
   "source": [
    "### 5.2"
   ]
  },
  {
   "cell_type": "markdown",
   "metadata": {},
   "source": [
    "The difficulty with this regression problem is that there are too few continuous variables associated with price, as well as too few features for the entire dataset, and although we extracted two continuous variables from Date of sale, they do not seem to help the model much. We tried three different types of models, namely linear regression, decision tree and random forest, to calculate MAE and RMSE values in the training set, test set and cross-validation respectively, and compared the MAE and RMSE on the training and test sets, respectively, as well as using cross-validation to get the best model of linear regression."
   ]
  },
  {
   "cell_type": "markdown",
   "metadata": {},
   "source": [
    "The above analysis allows us to obtain that the best model is the linear regression model. Firstly we have compared the models in depth and on this basis if we need to improve the accuracy of the models further we need to start with the features of the data. For example, in the above analysis we have used two features extracted from timestamps such as month and weekday, to which we can add two new features year and quater to see the results of MAE, RMSE on the training set, test set and cross-validation respectively."
   ]
  },
  {
   "cell_type": "code",
   "execution_count": 46,
   "metadata": {},
   "outputs": [
    {
     "name": "stdout",
     "output_type": "stream",
     "text": [
      "MAE on full train dataset: 77933.51142597363\n",
      "RMSE on full train dataset: 100008.17089068724\n",
      "MAE on full test dataset: 76365.69578296218\n",
      "RMSE on full test dataset: 98262.21890324946\n",
      "MAE on full dataset using k-fold cross-validation: 77692.32930831108\n",
      "RMSE on full dataset using k-fold cross-validation: 99823.04690062244\n"
     ]
    }
   ],
   "source": [
    "df1 = train_data.copy() # get a copy of original df\n",
    "df1[\"year\"] = df1[\"Date of Sale\"].dt.year # get year feature from Date -of sale\n",
    "df1[\"month\"] = df1[\"Date of Sale\"].dt.month # get month feature from Date of sale\n",
    "df1[\"quarter\"] = df1[\"Date of Sale\"].dt.quarter # get quarter feature from Date of sale\n",
    "df1[\"weekday\"] = df1[\"Date of Sale\"].dt.weekday # get weekday feature form Date of sale\n",
    "df1 = df1.drop(labels=[\"Date of Sale\"], axis=1) # remove data\n",
    "df1[\"Not Full Market Price\"] = df1[\"Not Full Market Price\"].replace({\"No\": 0, \"Yes\": 1}) # binary feature, using 0 and 1 represent\n",
    "df1[\"VAT Exclusive\"] = df1[\"VAT Exclusive\"].replace({\"No\": 0, \"Yes\": 1}) # binary feature, using 0 and 1 represent\n",
    "# binary feature, using 0 and 1 represent\n",
    "df1[\"Description of Property\"] = df1[\"Description of Property\"].replace({\"New Dwelling house /Apartment\": 0, \n",
    "\t\t\t\t\t\t\t\t\t\t\t\t\t\t\t\t\t\t \"Second-Hand Dwelling house /Apartment\": 1})\n",
    "\n",
    "df1 = pd.get_dummies(df1, columns=[\"County\"]) # use ont-hot encodeing\n",
    "#df1.head()\n",
    "X = df1.drop(labels=\"Price\", axis=1) # get train data\n",
    "y = df1[\"Price\"] # get target data\n",
    "\n",
    "lr = LinearRegression() # define model\n",
    "lr.fit(X, y) # train\n",
    "\n",
    "\n",
    "pred_train_set = lr.predict(X) # predict \n",
    "print(\"MAE on full train dataset:\", mean_absolute_error(pred_train_set, y))\n",
    "print(\"RMSE on full train dataset:\", np.sqrt(mean_squared_error(pred_train_set, y)))\n",
    "\n",
    "df1 = test_data.copy() # get a copy of original df\n",
    "df1[\"year\"] = df1[\"Date of Sale\"].dt.year # get year feature from Date -of sale\n",
    "df1[\"month\"] = df1[\"Date of Sale\"].dt.month # get month feature from Date of sale\n",
    "df1[\"quarter\"] = df1[\"Date of Sale\"].dt.quarter # get quarter feature from Date of sale\n",
    "df1[\"weekday\"] = df1[\"Date of Sale\"].dt.weekday # get weekday feature form Date of sale\n",
    "df1 = df1.drop(labels=[\"Date of Sale\"], axis=1) # remove data\n",
    "df1[\"Not Full Market Price\"] = df1[\"Not Full Market Price\"].replace({\"No\": 0, \"Yes\": 1}) # binary feature, using 0 and 1 represent\n",
    "df1[\"VAT Exclusive\"] = df1[\"VAT Exclusive\"].replace({\"No\": 0, \"Yes\": 1}) # binary feature, using 0 and 1 represent\n",
    "# binary feature, using 0 and 1 represent\n",
    "df1[\"Description of Property\"] = df1[\"Description of Property\"].replace({\"New Dwelling house /Apartment\": 0, \n",
    "\t\t\t\t\t\t\t\t\t\t\t\t\t\t\t\t\t\t \"Second-Hand Dwelling house /Apartment\": 1})\n",
    "\n",
    "df1 = pd.get_dummies(df1, columns=[\"County\"]) # use ont-hot encodeing\n",
    "#df1.head()\n",
    "X_test = df1.drop(labels=\"Price\", axis=1) # get train data\n",
    "y_test = df1[\"Price\"] # get target data\n",
    "\n",
    "pred_test_set = lr.predict(X_test) # predict \n",
    "print(\"MAE on full test dataset:\", mean_absolute_error(pred_test_set, y_test))\n",
    "print(\"RMSE on full test dataset:\", np.sqrt(mean_squared_error(pred_test_set, y_test)))\n",
    "\n",
    "lr = LinearRegression() # define new model\n",
    "full_X = np.vstack((X, X_test)) # get all data\n",
    "full_y = np.append(y, y_test) # get all y\n",
    "mae_scores = cross_val_score(lr, full_X, full_y, scoring=\"neg_mean_absolute_error\", cv=5)  # define classic k-fold cross-validation\n",
    "print(\"MAE on full dataset using k-fold cross-validation:\", -np.mean(mae_scores))\n",
    "\n",
    "rmse_scores = cross_val_score(lr, full_X, full_y, scoring=\"neg_mean_squared_error\", cv=5)  # define classic k-fold cross-validation\n",
    "print(\"RMSE on full dataset using k-fold cross-validation:\", np.sqrt(-np.mean(rmse_scores)))"
   ]
  },
  {
   "cell_type": "markdown",
   "metadata": {},
   "source": [
    "| feature | train set MAE | test set MAE | cross validation MAE | train set RMSE | test set RMSE | cross validation RMSE |\n",
    "|---------------|----------|-----------|-------|\n",
    "|     original  feature   |   81384   |   78775       | 80785| 103739 | 100982| 103228 |\n",
    "|    add year and quater    |    77933  |      76365    | 91060| 100008|  98262 | 99823|\n"
   ]
  },
  {
   "cell_type": "markdown",
   "metadata": {},
   "source": [
    "When I add new feature to original model with year and quarter from Date of sale. The MAE and RMSE on train set, test set and cross-validation reduced , which reflecting the difficulty of this regression problem, we need to mine as many new features as possible to help us predict PRICE."
   ]
  },
  {
   "cell_type": "markdown",
   "metadata": {},
   "source": [
    "### 5.3 "
   ]
  },
  {
   "cell_type": "code",
   "execution_count": 47,
   "metadata": {},
   "outputs": [
    {
     "name": "stdout",
     "output_type": "stream",
     "text": [
      "MAE on full train dataset: 77933.51142597363\n",
      "RMSE on full train dataset: 100008.17089068724\n",
      "MAE on full test dataset: 76365.69578296218\n",
      "RMSE on full test dataset: 98262.21890324946\n"
     ]
    }
   ],
   "source": [
    "df1 = train_data.copy() # get a copy of original df\n",
    "df1[\"year\"] = df1[\"Date of Sale\"].dt.year # get year feature from Date -of sale\n",
    "df1[\"month\"] = df1[\"Date of Sale\"].dt.month # get month feature from Date of sale\n",
    "df1[\"quarter\"] = df1[\"Date of Sale\"].dt.quarter # get quarter feature from Date of sale\n",
    "df1[\"weekday\"] = df1[\"Date of Sale\"].dt.weekday # get weekday feature form Date of sale\n",
    "df1 = df1.drop(labels=[\"Date of Sale\"], axis=1) # remove data\n",
    "df1[\"Not Full Market Price\"] = df1[\"Not Full Market Price\"].replace({\"No\": 0, \"Yes\": 1}) # binary feature, using 0 and 1 represent\n",
    "df1[\"VAT Exclusive\"] = df1[\"VAT Exclusive\"].replace({\"No\": 0, \"Yes\": 1}) # binary feature, using 0 and 1 represent\n",
    "# binary feature, using 0 and 1 represent\n",
    "df1[\"Description of Property\"] = df1[\"Description of Property\"].replace({\"New Dwelling house /Apartment\": 0, \n",
    "\t\t\t\t\t\t\t\t\t\t\t\t\t\t\t\t\t\t \"Second-Hand Dwelling house /Apartment\": 1})\n",
    "\n",
    "df1 = pd.get_dummies(df1, columns=[\"County\"]) # use ont-hot encodeing\n",
    "#df1.head()\n",
    "X = df1.drop(labels=\"Price\", axis=1) # get train data\n",
    "y = df1[\"Price\"] # get target data\n",
    "\n",
    "lr = LinearRegression() # define model\n",
    "lr.fit(X, y) # train\n",
    "\n",
    "\n",
    "pred_train_set = lr.predict(X) # predict \n",
    "print(\"MAE on full train dataset:\", mean_absolute_error(pred_train_set, y))\n",
    "print(\"RMSE on full train dataset:\", np.sqrt(mean_squared_error(pred_train_set, y)))\n",
    "\n",
    "df1 = test_data.copy() # get a copy of original df\n",
    "df1[\"year\"] = df1[\"Date of Sale\"].dt.year # get year feature from Date -of sale\n",
    "df1[\"month\"] = df1[\"Date of Sale\"].dt.month # get month feature from Date of sale\n",
    "df1[\"quarter\"] = df1[\"Date of Sale\"].dt.quarter # get quarter feature from Date of sale\n",
    "df1[\"weekday\"] = df1[\"Date of Sale\"].dt.weekday # get weekday feature form Date of sale\n",
    "df1 = df1.drop(labels=[\"Date of Sale\"], axis=1) # remove data\n",
    "df1[\"Not Full Market Price\"] = df1[\"Not Full Market Price\"].replace({\"No\": 0, \"Yes\": 1}) # binary feature, using 0 and 1 represent\n",
    "df1[\"VAT Exclusive\"] = df1[\"VAT Exclusive\"].replace({\"No\": 0, \"Yes\": 1}) # binary feature, using 0 and 1 represent\n",
    "# binary feature, using 0 and 1 represent\n",
    "df1[\"Description of Property\"] = df1[\"Description of Property\"].replace({\"New Dwelling house /Apartment\": 0, \n",
    "\t\t\t\t\t\t\t\t\t\t\t\t\t\t\t\t\t\t \"Second-Hand Dwelling house /Apartment\": 1})\n",
    "\n",
    "df1 = pd.get_dummies(df1, columns=[\"County\"]) # use ont-hot encodeing\n",
    "#df1.head()\n",
    "X_test = df1.drop(labels=\"Price\", axis=1) # get train data\n",
    "y_test = df1[\"Price\"] # get target data\n",
    "\n",
    "pred_test_set = lr.predict(X_test) # predict \n",
    "print(\"MAE on full test dataset:\", mean_absolute_error(pred_test_set, y_test))\n",
    "print(\"RMSE on full test dataset:\", np.sqrt(mean_squared_error(pred_test_set, y_test)))"
   ]
  },
  {
   "cell_type": "code",
   "execution_count": 48,
   "metadata": {},
   "outputs": [
    {
     "name": "stdout",
     "output_type": "stream",
     "text": [
      "Old Shape:  (7182, 9)\n",
      "New Shape:  (6748, 9)\n",
      "Old Shape:  (6748, 9)\n",
      "Total number of rows dropped:  5584\n",
      "New Shape:  (1164, 9)\n"
     ]
    },
    {
     "data": {
      "text/html": [
       "<div>\n",
       "<style scoped>\n",
       "    .dataframe tbody tr th:only-of-type {\n",
       "        vertical-align: middle;\n",
       "    }\n",
       "\n",
       "    .dataframe tbody tr th {\n",
       "        vertical-align: top;\n",
       "    }\n",
       "\n",
       "    .dataframe thead th {\n",
       "        text-align: right;\n",
       "    }\n",
       "</style>\n",
       "<table border=\"1\" class=\"dataframe\">\n",
       "  <thead>\n",
       "    <tr style=\"text-align: right;\">\n",
       "      <th></th>\n",
       "      <th>Price</th>\n",
       "      <th>NotFullMarketPrice</th>\n",
       "      <th>VATExclusive</th>\n",
       "      <th>DescriptionofProperty</th>\n",
       "      <th>year</th>\n",
       "      <th>month</th>\n",
       "      <th>quarter</th>\n",
       "      <th>weekday</th>\n",
       "      <th>County_Carlow</th>\n",
       "      <th>County_Cavan</th>\n",
       "      <th>...</th>\n",
       "      <th>County_Meath</th>\n",
       "      <th>County_Monaghan</th>\n",
       "      <th>County_Offaly</th>\n",
       "      <th>County_Roscommon</th>\n",
       "      <th>County_Sligo</th>\n",
       "      <th>County_Tipperary</th>\n",
       "      <th>County_Waterford</th>\n",
       "      <th>County_Westmeath</th>\n",
       "      <th>County_Wexford</th>\n",
       "      <th>County_Wicklow</th>\n",
       "    </tr>\n",
       "  </thead>\n",
       "  <tbody>\n",
       "    <tr>\n",
       "      <th>0</th>\n",
       "      <td>154000.00</td>\n",
       "      <td>0</td>\n",
       "      <td>0</td>\n",
       "      <td>1</td>\n",
       "      <td>2022</td>\n",
       "      <td>1</td>\n",
       "      <td>1</td>\n",
       "      <td>5</td>\n",
       "      <td>0</td>\n",
       "      <td>0</td>\n",
       "      <td>...</td>\n",
       "      <td>0</td>\n",
       "      <td>0</td>\n",
       "      <td>0</td>\n",
       "      <td>0</td>\n",
       "      <td>0</td>\n",
       "      <td>0</td>\n",
       "      <td>0</td>\n",
       "      <td>0</td>\n",
       "      <td>0</td>\n",
       "      <td>0</td>\n",
       "    </tr>\n",
       "    <tr>\n",
       "      <th>1</th>\n",
       "      <td>370000.00</td>\n",
       "      <td>0</td>\n",
       "      <td>0</td>\n",
       "      <td>1</td>\n",
       "      <td>2022</td>\n",
       "      <td>1</td>\n",
       "      <td>1</td>\n",
       "      <td>5</td>\n",
       "      <td>0</td>\n",
       "      <td>0</td>\n",
       "      <td>...</td>\n",
       "      <td>0</td>\n",
       "      <td>0</td>\n",
       "      <td>0</td>\n",
       "      <td>0</td>\n",
       "      <td>0</td>\n",
       "      <td>0</td>\n",
       "      <td>0</td>\n",
       "      <td>0</td>\n",
       "      <td>0</td>\n",
       "      <td>0</td>\n",
       "    </tr>\n",
       "    <tr>\n",
       "      <th>2</th>\n",
       "      <td>409691.63</td>\n",
       "      <td>0</td>\n",
       "      <td>1</td>\n",
       "      <td>0</td>\n",
       "      <td>2022</td>\n",
       "      <td>1</td>\n",
       "      <td>1</td>\n",
       "      <td>6</td>\n",
       "      <td>0</td>\n",
       "      <td>0</td>\n",
       "      <td>...</td>\n",
       "      <td>0</td>\n",
       "      <td>0</td>\n",
       "      <td>0</td>\n",
       "      <td>0</td>\n",
       "      <td>0</td>\n",
       "      <td>0</td>\n",
       "      <td>0</td>\n",
       "      <td>0</td>\n",
       "      <td>0</td>\n",
       "      <td>0</td>\n",
       "    </tr>\n",
       "    <tr>\n",
       "      <th>3</th>\n",
       "      <td>100000.00</td>\n",
       "      <td>0</td>\n",
       "      <td>0</td>\n",
       "      <td>1</td>\n",
       "      <td>2022</td>\n",
       "      <td>1</td>\n",
       "      <td>1</td>\n",
       "      <td>6</td>\n",
       "      <td>0</td>\n",
       "      <td>0</td>\n",
       "      <td>...</td>\n",
       "      <td>0</td>\n",
       "      <td>0</td>\n",
       "      <td>0</td>\n",
       "      <td>0</td>\n",
       "      <td>0</td>\n",
       "      <td>0</td>\n",
       "      <td>0</td>\n",
       "      <td>0</td>\n",
       "      <td>1</td>\n",
       "      <td>0</td>\n",
       "    </tr>\n",
       "    <tr>\n",
       "      <th>4</th>\n",
       "      <td>225000.00</td>\n",
       "      <td>0</td>\n",
       "      <td>0</td>\n",
       "      <td>1</td>\n",
       "      <td>2022</td>\n",
       "      <td>1</td>\n",
       "      <td>1</td>\n",
       "      <td>0</td>\n",
       "      <td>0</td>\n",
       "      <td>0</td>\n",
       "      <td>...</td>\n",
       "      <td>0</td>\n",
       "      <td>0</td>\n",
       "      <td>0</td>\n",
       "      <td>0</td>\n",
       "      <td>0</td>\n",
       "      <td>0</td>\n",
       "      <td>0</td>\n",
       "      <td>0</td>\n",
       "      <td>0</td>\n",
       "      <td>0</td>\n",
       "    </tr>\n",
       "  </tbody>\n",
       "</table>\n",
       "<p>5 rows × 34 columns</p>\n",
       "</div>"
      ],
      "text/plain": [
       "       Price  NotFullMarketPrice  VATExclusive  DescriptionofProperty  year  \\\n",
       "0  154000.00                   0             0                      1  2022   \n",
       "1  370000.00                   0             0                      1  2022   \n",
       "2  409691.63                   0             1                      0  2022   \n",
       "3  100000.00                   0             0                      1  2022   \n",
       "4  225000.00                   0             0                      1  2022   \n",
       "\n",
       "   month  quarter  weekday  County_Carlow  County_Cavan  ...  County_Meath  \\\n",
       "0      1        1        5              0             0  ...             0   \n",
       "1      1        1        5              0             0  ...             0   \n",
       "2      1        1        6              0             0  ...             0   \n",
       "3      1        1        6              0             0  ...             0   \n",
       "4      1        1        0              0             0  ...             0   \n",
       "\n",
       "   County_Monaghan  County_Offaly  County_Roscommon  County_Sligo  \\\n",
       "0                0              0                 0             0   \n",
       "1                0              0                 0             0   \n",
       "2                0              0                 0             0   \n",
       "3                0              0                 0             0   \n",
       "4                0              0                 0             0   \n",
       "\n",
       "   County_Tipperary  County_Waterford  County_Westmeath  County_Wexford  \\\n",
       "0                 0                 0                 0               0   \n",
       "1                 0                 0                 0               0   \n",
       "2                 0                 0                 0               0   \n",
       "3                 0                 0                 0               1   \n",
       "4                 0                 0                 0               0   \n",
       "\n",
       "   County_Wicklow  \n",
       "0               0  \n",
       "1               0  \n",
       "2               0  \n",
       "3               0  \n",
       "4               0  \n",
       "\n",
       "[5 rows x 34 columns]"
      ]
     },
     "execution_count": 48,
     "metadata": {},
     "output_type": "execute_result"
    }
   ],
   "source": [
    "df = pd.read_csv('22032022-PPR-Price-recent.csv')\n",
    "df['DateofSale(dd/mm/yyyy)'] = pd.to_datetime(df['DateofSale(dd/mm/yyyy)'], dayfirst=True, format='%Y-%m-%d')\n",
    "df = df.rename(columns={'DateofSale(dd/mm/yyyy)': 'Date of Sale'})\n",
    "df = df.rename(columns={'Price(€)': 'Price'})\n",
    "\n",
    "Q1 = df['Price'].quantile(0.25)\n",
    "Q3 = df['Price'].quantile(0.75)\n",
    "IQR = Q3 - Q1\n",
    "print(\"Old Shape: \", df.shape)\n",
    "test_4 = df[((df['Price'] < Q1 - 1.5 * IQR) | (df['Price'] > Q3 + 1.5 * IQR))]\n",
    "# ''' Removing the Outliers '''\n",
    "df.drop(test_4.index, inplace=True)\n",
    "print(\"New Shape: \", df.shape)\n",
    "\n",
    "test_3 = []\n",
    "for i in range(df.shape[0]):\n",
    "    if df.iloc[i]['Date of Sale'] > np.datetime64('2022-01-24T00:00:00Z'):\n",
    "        test_3.append(df.iloc[i])\n",
    "test_3 = pd.DataFrame(test_3)\n",
    "print(\"Old Shape: \", df.shape)\n",
    "# Check for cases that are later than 24 January 2022\n",
    "print(\"Total number of rows dropped: \", test_3.shape[0])\n",
    "df = df.drop(test_3.index)\n",
    "print(\"New Shape: \", df.shape)\n",
    "\n",
    "df = df.drop(['Address'], axis=1)\n",
    "df = df.drop(['PostalCode'], axis=1)\n",
    "df = df.drop(df[df['DescriptionofProperty']=='Teach/Árasán Cónaithe Atháimhe'].index)\n",
    "df = df.drop(['PropertySizeDescription'], axis=1)\n",
    "\n",
    "df1 = df.copy() # get a copy of original df\n",
    "df1[\"year\"] = df1[\"Date of Sale\"].dt.year  # get year feature from Date -of sale\n",
    "df1[\"month\"] = df1[\"Date of Sale\"].dt.month # get month feature from Date of sale\n",
    "df1[\"quarter\"] = df1[\"Date of Sale\"].dt.quarter # get quarter feature from Date of sale\n",
    "df1[\"weekday\"] = df1[\"Date of Sale\"].dt.weekday # get weekday feature form Date of sale\n",
    "df1 = df1.drop(labels=[\"Date of Sale\"], axis=1) # remove data\n",
    "df1[\"NotFullMarketPrice\"] = df1[\"NotFullMarketPrice\"].replace({\"No\": 0, \"Yes\": 1}) # binary feature, using 0 and 1 represent\n",
    "df1[\"VATExclusive\"] = df1[\"VATExclusive\"].replace({\"No\": 0, \"Yes\": 1}) # binary feature, using 0 and 1 represent\n",
    "# binary feature, using 0 and 1 represent\n",
    "df1[\"DescriptionofProperty\"] = df1[\"DescriptionofProperty\"].replace({\"New Dwelling house /Apartment\": 0, \n",
    "\t\t\t\t\t\t\t\t\t\t\t\t\t\t\t\t\t\t \"Second-Hand Dwelling house /Apartment\": 1})\n",
    "\n",
    "df1 = pd.get_dummies(df1, columns=[\"County\"]) # use ont-hot encodeing\n",
    "df1.head()"
   ]
  },
  {
   "cell_type": "code",
   "execution_count": 49,
   "metadata": {},
   "outputs": [
    {
     "name": "stdout",
     "output_type": "stream",
     "text": [
      "MAE on full test dataset: 87789.37498281787\n",
      "RMSE on full test dataset: 118502.25018396403\n"
     ]
    }
   ],
   "source": [
    "X_test = df1.drop(labels=\"Price\", axis=1) # get train data\n",
    "y_test = df1[\"Price\"] # get target data\n",
    "\n",
    "pred_test_set = lr.predict(X_test) # predict \n",
    "print(\"MAE on full test dataset:\", mean_absolute_error(pred_test_set, y_test))\n",
    "print(\"RMSE on full test dataset:\", np.sqrt(mean_squared_error(pred_test_set, y_test)))"
   ]
  },
  {
   "cell_type": "markdown",
   "metadata": {},
   "source": [
    "After the new data set was subjected to similar pre-processing operations as the original data set, the MAE value of the best model on the new data set was 87789, the RMSE value of the best model on the new data set was 118502, which is slightly higher than the MAE and RMSE on the test set of the original data, which is normal and indicates that linear regression is largely capable of making accurate predictions of PRICE."
   ]
  }
 ],
 "metadata": {
  "kernelspec": {
   "display_name": "Python 3",
   "language": "python",
   "name": "python3"
  },
  "language_info": {
   "codemirror_mode": {
    "name": "ipython",
    "version": 3
   },
   "file_extension": ".py",
   "mimetype": "text/x-python",
   "name": "python",
   "nbconvert_exporter": "python",
   "pygments_lexer": "ipython3",
   "version": "3.6.5"
  }
 },
 "nbformat": 4,
 "nbformat_minor": 2
}
